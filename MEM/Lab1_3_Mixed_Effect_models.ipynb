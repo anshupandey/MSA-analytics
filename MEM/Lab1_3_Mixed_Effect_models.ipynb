{
  "cells": [
    {
      "cell_type": "markdown",
      "metadata": {
        "id": "view-in-github",
        "colab_type": "text"
      },
      "source": [
        "<a href=\"https://colab.research.google.com/github/anshupandey/MSA-analytics/blob/main/MEM/Lab1_3_Mixed_Effect_models.ipynb\" target=\"_parent\"><img src=\"https://colab.research.google.com/assets/colab-badge.svg\" alt=\"Open In Colab\"/></a>"
      ]
    },
    {
      "cell_type": "markdown",
      "id": "ffff20d2",
      "metadata": {
        "id": "ffff20d2"
      },
      "source": [
        "\n",
        "# Module 9 – Mixed Effect Models (Labs 1–3)\n",
        "\n",
        "**Dataset:** `Ocean_Hull_Insurance_datasetv2.csv` (provided)  \n",
        "**Industry:** Ocean Hull Vessel Insurance\n",
        "\n",
        "This notebook contains the first three labs:\n",
        "\n",
        "- **Lab 1:** Exploring Fixed vs. Random Effects (OLS vs. Mixed-Effects)\n",
        "- **Lab 2:** Hierarchical Structures & Random Slopes (Zone-level heterogeneity)\n",
        "- **Lab 3:** Frequentist vs. Bayesian (template + fallback)\n",
        "\n",
        "> ⚠️ *Note:* The provided dataset is a cross-section (one row per vessel). It **does not contain time/longitudinal repeats** per vessel. We therefore demonstrate *hierarchical* mixed-effects with group-level (Operating Zone) random effects and random slopes. For true longitudinal modelling, add a time column (e.g., policy year per vessel) and follow the template in Lab 2 (Longitudinal Note).\n"
      ]
    },
    {
      "cell_type": "code",
      "execution_count": 1,
      "id": "8d2461b8",
      "metadata": {
        "colab": {
          "base_uri": "https://localhost:8080/",
          "height": 331
        },
        "id": "8d2461b8",
        "outputId": "761d1765-55b8-4d02-8957-f5443afd810d"
      },
      "outputs": [
        {
          "output_type": "stream",
          "name": "stdout",
          "text": [
            "Shape: (300, 15)\n",
            "Columns: ['Vessel_ID', 'Vessel_Type', 'Operating_Zone', 'Vessel_Age', 'Flag_State', 'Inspection_Status', 'Weather_Risk', 'Piracy_Risk', 'Claim_Occurred', 'Claim_Amount', 'Premium', 'Sum_Insured', 'Daily_Return', 'Initial_Investment', 'Final_Value']\n"
          ]
        },
        {
          "output_type": "execute_result",
          "data": {
            "text/plain": [
              "   Vessel_ID              Vessel_Type     Operating_Zone  Vessel_Age  \\\n",
              "0          1           Container Ship  Strait of Malacca          19   \n",
              "1          2           Container Ship  Strait of Malacca          40   \n",
              "2          3                   Tanker       Indian Ocean          26   \n",
              "3          4             Bulk Carrier    South China Sea           7   \n",
              "4          5  Offshore Support Vessel      Mediterranean          18   \n",
              "\n",
              "         Flag_State Inspection_Status Weather_Risk Piracy_Risk  \\\n",
              "0  Marshall Islands           Overdue     Moderate    Moderate   \n",
              "1  Marshall Islands        Up-to-date         High        High   \n",
              "2            Greece           Delayed          Low         Low   \n",
              "3            Greece        Up-to-date     Moderate         Low   \n",
              "4           Liberia           Delayed          Low         Low   \n",
              "\n",
              "   Claim_Occurred  Claim_Amount  Premium  Sum_Insured  Daily_Return  \\\n",
              "0               0             0   159500     14050000      0.000997   \n",
              "1               0             0   170000     13000000      0.000362   \n",
              "2               0             0   193000     18700000      0.001148   \n",
              "3               0             0   123500     11650000      0.002023   \n",
              "4               0             0   109000      7100000      0.000266   \n",
              "\n",
              "   Initial_Investment    Final_Value  \n",
              "0             95700.0  104676.840752  \n",
              "1            102000.0  105374.760051  \n",
              "2            115800.0  128393.183954  \n",
              "3             74100.0   88881.524555  \n",
              "4             65400.0   66983.429972  "
            ],
            "text/html": [
              "\n",
              "  <div id=\"df-1e4194c1-d34e-4ca7-b53d-1a8729cce089\" class=\"colab-df-container\">\n",
              "    <div>\n",
              "<style scoped>\n",
              "    .dataframe tbody tr th:only-of-type {\n",
              "        vertical-align: middle;\n",
              "    }\n",
              "\n",
              "    .dataframe tbody tr th {\n",
              "        vertical-align: top;\n",
              "    }\n",
              "\n",
              "    .dataframe thead th {\n",
              "        text-align: right;\n",
              "    }\n",
              "</style>\n",
              "<table border=\"1\" class=\"dataframe\">\n",
              "  <thead>\n",
              "    <tr style=\"text-align: right;\">\n",
              "      <th></th>\n",
              "      <th>Vessel_ID</th>\n",
              "      <th>Vessel_Type</th>\n",
              "      <th>Operating_Zone</th>\n",
              "      <th>Vessel_Age</th>\n",
              "      <th>Flag_State</th>\n",
              "      <th>Inspection_Status</th>\n",
              "      <th>Weather_Risk</th>\n",
              "      <th>Piracy_Risk</th>\n",
              "      <th>Claim_Occurred</th>\n",
              "      <th>Claim_Amount</th>\n",
              "      <th>Premium</th>\n",
              "      <th>Sum_Insured</th>\n",
              "      <th>Daily_Return</th>\n",
              "      <th>Initial_Investment</th>\n",
              "      <th>Final_Value</th>\n",
              "    </tr>\n",
              "  </thead>\n",
              "  <tbody>\n",
              "    <tr>\n",
              "      <th>0</th>\n",
              "      <td>1</td>\n",
              "      <td>Container Ship</td>\n",
              "      <td>Strait of Malacca</td>\n",
              "      <td>19</td>\n",
              "      <td>Marshall Islands</td>\n",
              "      <td>Overdue</td>\n",
              "      <td>Moderate</td>\n",
              "      <td>Moderate</td>\n",
              "      <td>0</td>\n",
              "      <td>0</td>\n",
              "      <td>159500</td>\n",
              "      <td>14050000</td>\n",
              "      <td>0.000997</td>\n",
              "      <td>95700.0</td>\n",
              "      <td>104676.840752</td>\n",
              "    </tr>\n",
              "    <tr>\n",
              "      <th>1</th>\n",
              "      <td>2</td>\n",
              "      <td>Container Ship</td>\n",
              "      <td>Strait of Malacca</td>\n",
              "      <td>40</td>\n",
              "      <td>Marshall Islands</td>\n",
              "      <td>Up-to-date</td>\n",
              "      <td>High</td>\n",
              "      <td>High</td>\n",
              "      <td>0</td>\n",
              "      <td>0</td>\n",
              "      <td>170000</td>\n",
              "      <td>13000000</td>\n",
              "      <td>0.000362</td>\n",
              "      <td>102000.0</td>\n",
              "      <td>105374.760051</td>\n",
              "    </tr>\n",
              "    <tr>\n",
              "      <th>2</th>\n",
              "      <td>3</td>\n",
              "      <td>Tanker</td>\n",
              "      <td>Indian Ocean</td>\n",
              "      <td>26</td>\n",
              "      <td>Greece</td>\n",
              "      <td>Delayed</td>\n",
              "      <td>Low</td>\n",
              "      <td>Low</td>\n",
              "      <td>0</td>\n",
              "      <td>0</td>\n",
              "      <td>193000</td>\n",
              "      <td>18700000</td>\n",
              "      <td>0.001148</td>\n",
              "      <td>115800.0</td>\n",
              "      <td>128393.183954</td>\n",
              "    </tr>\n",
              "    <tr>\n",
              "      <th>3</th>\n",
              "      <td>4</td>\n",
              "      <td>Bulk Carrier</td>\n",
              "      <td>South China Sea</td>\n",
              "      <td>7</td>\n",
              "      <td>Greece</td>\n",
              "      <td>Up-to-date</td>\n",
              "      <td>Moderate</td>\n",
              "      <td>Low</td>\n",
              "      <td>0</td>\n",
              "      <td>0</td>\n",
              "      <td>123500</td>\n",
              "      <td>11650000</td>\n",
              "      <td>0.002023</td>\n",
              "      <td>74100.0</td>\n",
              "      <td>88881.524555</td>\n",
              "    </tr>\n",
              "    <tr>\n",
              "      <th>4</th>\n",
              "      <td>5</td>\n",
              "      <td>Offshore Support Vessel</td>\n",
              "      <td>Mediterranean</td>\n",
              "      <td>18</td>\n",
              "      <td>Liberia</td>\n",
              "      <td>Delayed</td>\n",
              "      <td>Low</td>\n",
              "      <td>Low</td>\n",
              "      <td>0</td>\n",
              "      <td>0</td>\n",
              "      <td>109000</td>\n",
              "      <td>7100000</td>\n",
              "      <td>0.000266</td>\n",
              "      <td>65400.0</td>\n",
              "      <td>66983.429972</td>\n",
              "    </tr>\n",
              "  </tbody>\n",
              "</table>\n",
              "</div>\n",
              "    <div class=\"colab-df-buttons\">\n",
              "\n",
              "  <div class=\"colab-df-container\">\n",
              "    <button class=\"colab-df-convert\" onclick=\"convertToInteractive('df-1e4194c1-d34e-4ca7-b53d-1a8729cce089')\"\n",
              "            title=\"Convert this dataframe to an interactive table.\"\n",
              "            style=\"display:none;\">\n",
              "\n",
              "  <svg xmlns=\"http://www.w3.org/2000/svg\" height=\"24px\" viewBox=\"0 -960 960 960\">\n",
              "    <path d=\"M120-120v-720h720v720H120Zm60-500h600v-160H180v160Zm220 220h160v-160H400v160Zm0 220h160v-160H400v160ZM180-400h160v-160H180v160Zm440 0h160v-160H620v160ZM180-180h160v-160H180v160Zm440 0h160v-160H620v160Z\"/>\n",
              "  </svg>\n",
              "    </button>\n",
              "\n",
              "  <style>\n",
              "    .colab-df-container {\n",
              "      display:flex;\n",
              "      gap: 12px;\n",
              "    }\n",
              "\n",
              "    .colab-df-convert {\n",
              "      background-color: #E8F0FE;\n",
              "      border: none;\n",
              "      border-radius: 50%;\n",
              "      cursor: pointer;\n",
              "      display: none;\n",
              "      fill: #1967D2;\n",
              "      height: 32px;\n",
              "      padding: 0 0 0 0;\n",
              "      width: 32px;\n",
              "    }\n",
              "\n",
              "    .colab-df-convert:hover {\n",
              "      background-color: #E2EBFA;\n",
              "      box-shadow: 0px 1px 2px rgba(60, 64, 67, 0.3), 0px 1px 3px 1px rgba(60, 64, 67, 0.15);\n",
              "      fill: #174EA6;\n",
              "    }\n",
              "\n",
              "    .colab-df-buttons div {\n",
              "      margin-bottom: 4px;\n",
              "    }\n",
              "\n",
              "    [theme=dark] .colab-df-convert {\n",
              "      background-color: #3B4455;\n",
              "      fill: #D2E3FC;\n",
              "    }\n",
              "\n",
              "    [theme=dark] .colab-df-convert:hover {\n",
              "      background-color: #434B5C;\n",
              "      box-shadow: 0px 1px 3px 1px rgba(0, 0, 0, 0.15);\n",
              "      filter: drop-shadow(0px 1px 2px rgba(0, 0, 0, 0.3));\n",
              "      fill: #FFFFFF;\n",
              "    }\n",
              "  </style>\n",
              "\n",
              "    <script>\n",
              "      const buttonEl =\n",
              "        document.querySelector('#df-1e4194c1-d34e-4ca7-b53d-1a8729cce089 button.colab-df-convert');\n",
              "      buttonEl.style.display =\n",
              "        google.colab.kernel.accessAllowed ? 'block' : 'none';\n",
              "\n",
              "      async function convertToInteractive(key) {\n",
              "        const element = document.querySelector('#df-1e4194c1-d34e-4ca7-b53d-1a8729cce089');\n",
              "        const dataTable =\n",
              "          await google.colab.kernel.invokeFunction('convertToInteractive',\n",
              "                                                    [key], {});\n",
              "        if (!dataTable) return;\n",
              "\n",
              "        const docLinkHtml = 'Like what you see? Visit the ' +\n",
              "          '<a target=\"_blank\" href=https://colab.research.google.com/notebooks/data_table.ipynb>data table notebook</a>'\n",
              "          + ' to learn more about interactive tables.';\n",
              "        element.innerHTML = '';\n",
              "        dataTable['output_type'] = 'display_data';\n",
              "        await google.colab.output.renderOutput(dataTable, element);\n",
              "        const docLink = document.createElement('div');\n",
              "        docLink.innerHTML = docLinkHtml;\n",
              "        element.appendChild(docLink);\n",
              "      }\n",
              "    </script>\n",
              "  </div>\n",
              "\n",
              "\n",
              "    <div id=\"df-e21c100e-5973-47c6-aecc-90b9b6aaa280\">\n",
              "      <button class=\"colab-df-quickchart\" onclick=\"quickchart('df-e21c100e-5973-47c6-aecc-90b9b6aaa280')\"\n",
              "                title=\"Suggest charts\"\n",
              "                style=\"display:none;\">\n",
              "\n",
              "<svg xmlns=\"http://www.w3.org/2000/svg\" height=\"24px\"viewBox=\"0 0 24 24\"\n",
              "     width=\"24px\">\n",
              "    <g>\n",
              "        <path d=\"M19 3H5c-1.1 0-2 .9-2 2v14c0 1.1.9 2 2 2h14c1.1 0 2-.9 2-2V5c0-1.1-.9-2-2-2zM9 17H7v-7h2v7zm4 0h-2V7h2v10zm4 0h-2v-4h2v4z\"/>\n",
              "    </g>\n",
              "</svg>\n",
              "      </button>\n",
              "\n",
              "<style>\n",
              "  .colab-df-quickchart {\n",
              "      --bg-color: #E8F0FE;\n",
              "      --fill-color: #1967D2;\n",
              "      --hover-bg-color: #E2EBFA;\n",
              "      --hover-fill-color: #174EA6;\n",
              "      --disabled-fill-color: #AAA;\n",
              "      --disabled-bg-color: #DDD;\n",
              "  }\n",
              "\n",
              "  [theme=dark] .colab-df-quickchart {\n",
              "      --bg-color: #3B4455;\n",
              "      --fill-color: #D2E3FC;\n",
              "      --hover-bg-color: #434B5C;\n",
              "      --hover-fill-color: #FFFFFF;\n",
              "      --disabled-bg-color: #3B4455;\n",
              "      --disabled-fill-color: #666;\n",
              "  }\n",
              "\n",
              "  .colab-df-quickchart {\n",
              "    background-color: var(--bg-color);\n",
              "    border: none;\n",
              "    border-radius: 50%;\n",
              "    cursor: pointer;\n",
              "    display: none;\n",
              "    fill: var(--fill-color);\n",
              "    height: 32px;\n",
              "    padding: 0;\n",
              "    width: 32px;\n",
              "  }\n",
              "\n",
              "  .colab-df-quickchart:hover {\n",
              "    background-color: var(--hover-bg-color);\n",
              "    box-shadow: 0 1px 2px rgba(60, 64, 67, 0.3), 0 1px 3px 1px rgba(60, 64, 67, 0.15);\n",
              "    fill: var(--button-hover-fill-color);\n",
              "  }\n",
              "\n",
              "  .colab-df-quickchart-complete:disabled,\n",
              "  .colab-df-quickchart-complete:disabled:hover {\n",
              "    background-color: var(--disabled-bg-color);\n",
              "    fill: var(--disabled-fill-color);\n",
              "    box-shadow: none;\n",
              "  }\n",
              "\n",
              "  .colab-df-spinner {\n",
              "    border: 2px solid var(--fill-color);\n",
              "    border-color: transparent;\n",
              "    border-bottom-color: var(--fill-color);\n",
              "    animation:\n",
              "      spin 1s steps(1) infinite;\n",
              "  }\n",
              "\n",
              "  @keyframes spin {\n",
              "    0% {\n",
              "      border-color: transparent;\n",
              "      border-bottom-color: var(--fill-color);\n",
              "      border-left-color: var(--fill-color);\n",
              "    }\n",
              "    20% {\n",
              "      border-color: transparent;\n",
              "      border-left-color: var(--fill-color);\n",
              "      border-top-color: var(--fill-color);\n",
              "    }\n",
              "    30% {\n",
              "      border-color: transparent;\n",
              "      border-left-color: var(--fill-color);\n",
              "      border-top-color: var(--fill-color);\n",
              "      border-right-color: var(--fill-color);\n",
              "    }\n",
              "    40% {\n",
              "      border-color: transparent;\n",
              "      border-right-color: var(--fill-color);\n",
              "      border-top-color: var(--fill-color);\n",
              "    }\n",
              "    60% {\n",
              "      border-color: transparent;\n",
              "      border-right-color: var(--fill-color);\n",
              "    }\n",
              "    80% {\n",
              "      border-color: transparent;\n",
              "      border-right-color: var(--fill-color);\n",
              "      border-bottom-color: var(--fill-color);\n",
              "    }\n",
              "    90% {\n",
              "      border-color: transparent;\n",
              "      border-bottom-color: var(--fill-color);\n",
              "    }\n",
              "  }\n",
              "</style>\n",
              "\n",
              "      <script>\n",
              "        async function quickchart(key) {\n",
              "          const quickchartButtonEl =\n",
              "            document.querySelector('#' + key + ' button');\n",
              "          quickchartButtonEl.disabled = true;  // To prevent multiple clicks.\n",
              "          quickchartButtonEl.classList.add('colab-df-spinner');\n",
              "          try {\n",
              "            const charts = await google.colab.kernel.invokeFunction(\n",
              "                'suggestCharts', [key], {});\n",
              "          } catch (error) {\n",
              "            console.error('Error during call to suggestCharts:', error);\n",
              "          }\n",
              "          quickchartButtonEl.classList.remove('colab-df-spinner');\n",
              "          quickchartButtonEl.classList.add('colab-df-quickchart-complete');\n",
              "        }\n",
              "        (() => {\n",
              "          let quickchartButtonEl =\n",
              "            document.querySelector('#df-e21c100e-5973-47c6-aecc-90b9b6aaa280 button');\n",
              "          quickchartButtonEl.style.display =\n",
              "            google.colab.kernel.accessAllowed ? 'block' : 'none';\n",
              "        })();\n",
              "      </script>\n",
              "    </div>\n",
              "\n",
              "    </div>\n",
              "  </div>\n"
            ],
            "application/vnd.google.colaboratory.intrinsic+json": {
              "type": "dataframe",
              "variable_name": "df",
              "summary": "{\n  \"name\": \"df\",\n  \"rows\": 300,\n  \"fields\": [\n    {\n      \"column\": \"Vessel_ID\",\n      \"properties\": {\n        \"dtype\": \"number\",\n        \"std\": 86,\n        \"min\": 1,\n        \"max\": 300,\n        \"num_unique_values\": 300,\n        \"samples\": [\n          204,\n          267,\n          153\n        ],\n        \"semantic_type\": \"\",\n        \"description\": \"\"\n      }\n    },\n    {\n      \"column\": \"Vessel_Type\",\n      \"properties\": {\n        \"dtype\": \"category\",\n        \"num_unique_values\": 4,\n        \"samples\": [\n          \"Tanker\",\n          \"Offshore Support Vessel\",\n          \"Container Ship\"\n        ],\n        \"semantic_type\": \"\",\n        \"description\": \"\"\n      }\n    },\n    {\n      \"column\": \"Operating_Zone\",\n      \"properties\": {\n        \"dtype\": \"category\",\n        \"num_unique_values\": 5,\n        \"samples\": [\n          \"Indian Ocean\",\n          \"North Atlantic\",\n          \"South China Sea\"\n        ],\n        \"semantic_type\": \"\",\n        \"description\": \"\"\n      }\n    },\n    {\n      \"column\": \"Vessel_Age\",\n      \"properties\": {\n        \"dtype\": \"number\",\n        \"std\": 9,\n        \"min\": 5,\n        \"max\": 40,\n        \"num_unique_values\": 36,\n        \"samples\": [\n          34,\n          24,\n          5\n        ],\n        \"semantic_type\": \"\",\n        \"description\": \"\"\n      }\n    },\n    {\n      \"column\": \"Flag_State\",\n      \"properties\": {\n        \"dtype\": \"category\",\n        \"num_unique_values\": 5,\n        \"samples\": [\n          \"Greece\",\n          \"Panama\",\n          \"Liberia\"\n        ],\n        \"semantic_type\": \"\",\n        \"description\": \"\"\n      }\n    },\n    {\n      \"column\": \"Inspection_Status\",\n      \"properties\": {\n        \"dtype\": \"category\",\n        \"num_unique_values\": 3,\n        \"samples\": [\n          \"Overdue\",\n          \"Up-to-date\",\n          \"Delayed\"\n        ],\n        \"semantic_type\": \"\",\n        \"description\": \"\"\n      }\n    },\n    {\n      \"column\": \"Weather_Risk\",\n      \"properties\": {\n        \"dtype\": \"category\",\n        \"num_unique_values\": 3,\n        \"samples\": [\n          \"Moderate\",\n          \"High\",\n          \"Low\"\n        ],\n        \"semantic_type\": \"\",\n        \"description\": \"\"\n      }\n    },\n    {\n      \"column\": \"Piracy_Risk\",\n      \"properties\": {\n        \"dtype\": \"category\",\n        \"num_unique_values\": 3,\n        \"samples\": [\n          \"Moderate\",\n          \"High\",\n          \"Low\"\n        ],\n        \"semantic_type\": \"\",\n        \"description\": \"\"\n      }\n    },\n    {\n      \"column\": \"Claim_Occurred\",\n      \"properties\": {\n        \"dtype\": \"number\",\n        \"std\": 0,\n        \"min\": 0,\n        \"max\": 1,\n        \"num_unique_values\": 2,\n        \"samples\": [\n          1,\n          0\n        ],\n        \"semantic_type\": \"\",\n        \"description\": \"\"\n      }\n    },\n    {\n      \"column\": \"Claim_Amount\",\n      \"properties\": {\n        \"dtype\": \"number\",\n        \"std\": 962801,\n        \"min\": 0,\n        \"max\": 4966271,\n        \"num_unique_values\": 71,\n        \"samples\": [\n          1416997,\n          0\n        ],\n        \"semantic_type\": \"\",\n        \"description\": \"\"\n      }\n    },\n    {\n      \"column\": \"Premium\",\n      \"properties\": {\n        \"dtype\": \"number\",\n        \"std\": 28518,\n        \"min\": 103500,\n        \"max\": 200000,\n        \"num_unique_values\": 124,\n        \"samples\": [\n          168000,\n          161500\n        ],\n        \"semantic_type\": \"\",\n        \"description\": \"\"\n      }\n    },\n    {\n      \"column\": \"Sum_Insured\",\n      \"properties\": {\n        \"dtype\": \"number\",\n        \"std\": 4019749,\n        \"min\": 6150000,\n        \"max\": 19750000,\n        \"num_unique_values\": 124,\n        \"samples\": [\n          13200000,\n          13850000\n        ],\n        \"semantic_type\": \"\",\n        \"description\": \"\"\n      }\n    },\n    {\n      \"column\": \"Daily_Return\",\n      \"properties\": {\n        \"dtype\": \"number\",\n        \"std\": 0.0009841936889703915,\n        \"min\": -0.002741267340069,\n        \"max\": 0.0043527314906547,\n        \"num_unique_values\": 300,\n        \"samples\": [\n          0.0015538020520349,\n          0.0021324113039316\n        ],\n        \"semantic_type\": \"\",\n        \"description\": \"\"\n      }\n    },\n    {\n      \"column\": \"Initial_Investment\",\n      \"properties\": {\n        \"dtype\": \"number\",\n        \"std\": 17110.98371062139,\n        \"min\": 62100.0,\n        \"max\": 120000.0,\n        \"num_unique_values\": 124,\n        \"samples\": [\n          100800.0,\n          96900.0\n        ],\n        \"semantic_type\": \"\",\n        \"description\": \"\"\n      }\n    },\n    {\n      \"column\": \"Final_Value\",\n      \"properties\": {\n        \"dtype\": \"number\",\n        \"std\": 20527.963438169794,\n        \"min\": 58078.93448916586,\n        \"max\": 167639.7126944092,\n        \"num_unique_values\": 300,\n        \"samples\": [\n          93147.36493374492,\n          98843.91074364708\n        ],\n        \"semantic_type\": \"\",\n        \"description\": \"\"\n      }\n    }\n  ]\n}"
            }
          },
          "metadata": {},
          "execution_count": 1
        }
      ],
      "source": [
        "\n",
        "# ==== Setup ====\n",
        "# Import required libraries\n",
        "import pandas as pd\n",
        "import numpy as np\n",
        "import matplotlib.pyplot as plt\n",
        "import statsmodels.formula.api as smf\n",
        "import statsmodels.api as sm\n",
        "from pathlib import Path\n",
        "\n",
        "# Matplotlib settings (per teaching guidelines: single-plot charts, no custom colors/styles)\n",
        "%matplotlib inline\n",
        "\n",
        "# Paths\n",
        "DATA_PATH = \"https://raw.githubusercontent.com/anshupandey/MSA-analytics/refs/heads/main/datasets/Ocean_Hull_Insurance_datasetv2.csv\"\n",
        "\n",
        "# Load data\n",
        "df = pd.read_csv(DATA_PATH)\n",
        "\n",
        "print('Shape:', df.shape)\n",
        "print('Columns:', df.columns.tolist())\n",
        "\n",
        "# Quick peek\n",
        "df.head()\n"
      ]
    },
    {
      "cell_type": "markdown",
      "id": "0de8326a",
      "metadata": {
        "id": "0de8326a"
      },
      "source": [
        "\n",
        "## Data Processing (Used in all labs)\n",
        "\n",
        "We will:\n",
        "1. Inspect missing values.\n",
        "2. Engineer a **log-claim** outcome (skew reduction): `log_claim = log(Claim_Amount + 1)`.\n",
        "3. Keep key predictors (fixed effects) commonly used in insurance risk:\n",
        "   - `Vessel_Age`, `Premium`, `Sum_Insured`\n",
        "   - Categorical risk drivers: `Vessel_Type`, `Inspection_Status`, `Weather_Risk`, `Piracy_Risk`\n",
        "4. Use **Operating_Zone** as the *grouping level* for random effects to capture unobserved spatial/operational heterogeneity.\n"
      ]
    },
    {
      "cell_type": "code",
      "execution_count": 2,
      "id": "76c0275b",
      "metadata": {
        "colab": {
          "base_uri": "https://localhost:8080/"
        },
        "id": "76c0275b",
        "outputId": "f2f9c236-ad38-4cb0-c193-de269f6321f0"
      },
      "outputs": [
        {
          "output_type": "stream",
          "name": "stdout",
          "text": [
            "Missing values by column:\n",
            " Vessel_ID             0\n",
            "Vessel_Type           0\n",
            "Operating_Zone        0\n",
            "Vessel_Age            0\n",
            "Flag_State            0\n",
            "Inspection_Status     0\n",
            "Weather_Risk          0\n",
            "Piracy_Risk           0\n",
            "Claim_Occurred        0\n",
            "Claim_Amount          0\n",
            "Premium               0\n",
            "Sum_Insured           0\n",
            "Daily_Return          0\n",
            "Initial_Investment    0\n",
            "Final_Value           0\n",
            "dtype: int64\n"
          ]
        }
      ],
      "source": [
        "\n",
        "# ==== Data Processing & Checks ====\n",
        "\n",
        "# Basic NA check\n",
        "na_summary = df.isna().sum().sort_values(ascending=False)\n",
        "print('Missing values by column:\\n', na_summary)\n"
      ]
    },
    {
      "cell_type": "code",
      "source": [
        "# Create target for continuous modelling\n",
        "df['log_claim'] = np.log1p(df['Claim_Amount'].astype(float))\n",
        "\n",
        "# Basic sanity checks\n",
        "print('\\nClaim_Amount zero rate:', (df['Claim_Amount'] == 0).mean())\n",
        "print('log_claim summary:\\n', df['log_claim'].describe())\n",
        "\n"
      ],
      "metadata": {
        "colab": {
          "base_uri": "https://localhost:8080/"
        },
        "id": "epIQT1DOJ4yd",
        "outputId": "5916471d-3518-45e5-d25e-a1c5d3cd1c04"
      },
      "id": "epIQT1DOJ4yd",
      "execution_count": 3,
      "outputs": [
        {
          "output_type": "stream",
          "name": "stdout",
          "text": [
            "\n",
            "Claim_Amount zero rate: 0.7666666666666667\n",
            "log_claim summary:\n",
            " count    300.000000\n",
            "mean       3.370222\n",
            "std        6.122520\n",
            "min        0.000000\n",
            "25%        0.000000\n",
            "50%        0.000000\n",
            "75%        0.000000\n",
            "max       15.418180\n",
            "Name: log_claim, dtype: float64\n"
          ]
        }
      ]
    },
    {
      "cell_type": "code",
      "source": [
        "# Ensure categorical dtypes for formula handling\n",
        "categorical_cols = ['Vessel_Type', 'Operating_Zone', 'Flag_State',\n",
        "                    'Inspection_Status', 'Weather_Risk', 'Piracy_Risk']\n",
        "for c in categorical_cols:\n",
        "    df[c] = df[c].astype('category')\n",
        "\n",
        "\n",
        "# Keep a modelling frame\n",
        "model_cols = ['log_claim', 'Vessel_Age', 'Premium', 'Sum_Insured',\n",
        "              'Vessel_Type', 'Inspection_Status', 'Weather_Risk', 'Piracy_Risk', 'Operating_Zone']\n",
        "work = df[model_cols].dropna().copy()\n",
        "\n",
        "print('\\nModelling frame shape:', work.shape)\n",
        "work.head()"
      ],
      "metadata": {
        "colab": {
          "base_uri": "https://localhost:8080/",
          "height": 242
        },
        "id": "dB-v0rJEJzVl",
        "outputId": "fc261659-aa3b-4af9-fce8-708577e051c1"
      },
      "id": "dB-v0rJEJzVl",
      "execution_count": 4,
      "outputs": [
        {
          "output_type": "stream",
          "name": "stdout",
          "text": [
            "\n",
            "Modelling frame shape: (300, 9)\n"
          ]
        },
        {
          "output_type": "execute_result",
          "data": {
            "text/plain": [
              "   log_claim  Vessel_Age  Premium  Sum_Insured              Vessel_Type  \\\n",
              "0        0.0          19   159500     14050000           Container Ship   \n",
              "1        0.0          40   170000     13000000           Container Ship   \n",
              "2        0.0          26   193000     18700000                   Tanker   \n",
              "3        0.0           7   123500     11650000             Bulk Carrier   \n",
              "4        0.0          18   109000      7100000  Offshore Support Vessel   \n",
              "\n",
              "  Inspection_Status Weather_Risk Piracy_Risk     Operating_Zone  \n",
              "0           Overdue     Moderate    Moderate  Strait of Malacca  \n",
              "1        Up-to-date         High        High  Strait of Malacca  \n",
              "2           Delayed          Low         Low       Indian Ocean  \n",
              "3        Up-to-date     Moderate         Low    South China Sea  \n",
              "4           Delayed          Low         Low      Mediterranean  "
            ],
            "text/html": [
              "\n",
              "  <div id=\"df-2d2d4b49-2116-4c1b-9645-18fd98301c7c\" class=\"colab-df-container\">\n",
              "    <div>\n",
              "<style scoped>\n",
              "    .dataframe tbody tr th:only-of-type {\n",
              "        vertical-align: middle;\n",
              "    }\n",
              "\n",
              "    .dataframe tbody tr th {\n",
              "        vertical-align: top;\n",
              "    }\n",
              "\n",
              "    .dataframe thead th {\n",
              "        text-align: right;\n",
              "    }\n",
              "</style>\n",
              "<table border=\"1\" class=\"dataframe\">\n",
              "  <thead>\n",
              "    <tr style=\"text-align: right;\">\n",
              "      <th></th>\n",
              "      <th>log_claim</th>\n",
              "      <th>Vessel_Age</th>\n",
              "      <th>Premium</th>\n",
              "      <th>Sum_Insured</th>\n",
              "      <th>Vessel_Type</th>\n",
              "      <th>Inspection_Status</th>\n",
              "      <th>Weather_Risk</th>\n",
              "      <th>Piracy_Risk</th>\n",
              "      <th>Operating_Zone</th>\n",
              "    </tr>\n",
              "  </thead>\n",
              "  <tbody>\n",
              "    <tr>\n",
              "      <th>0</th>\n",
              "      <td>0.0</td>\n",
              "      <td>19</td>\n",
              "      <td>159500</td>\n",
              "      <td>14050000</td>\n",
              "      <td>Container Ship</td>\n",
              "      <td>Overdue</td>\n",
              "      <td>Moderate</td>\n",
              "      <td>Moderate</td>\n",
              "      <td>Strait of Malacca</td>\n",
              "    </tr>\n",
              "    <tr>\n",
              "      <th>1</th>\n",
              "      <td>0.0</td>\n",
              "      <td>40</td>\n",
              "      <td>170000</td>\n",
              "      <td>13000000</td>\n",
              "      <td>Container Ship</td>\n",
              "      <td>Up-to-date</td>\n",
              "      <td>High</td>\n",
              "      <td>High</td>\n",
              "      <td>Strait of Malacca</td>\n",
              "    </tr>\n",
              "    <tr>\n",
              "      <th>2</th>\n",
              "      <td>0.0</td>\n",
              "      <td>26</td>\n",
              "      <td>193000</td>\n",
              "      <td>18700000</td>\n",
              "      <td>Tanker</td>\n",
              "      <td>Delayed</td>\n",
              "      <td>Low</td>\n",
              "      <td>Low</td>\n",
              "      <td>Indian Ocean</td>\n",
              "    </tr>\n",
              "    <tr>\n",
              "      <th>3</th>\n",
              "      <td>0.0</td>\n",
              "      <td>7</td>\n",
              "      <td>123500</td>\n",
              "      <td>11650000</td>\n",
              "      <td>Bulk Carrier</td>\n",
              "      <td>Up-to-date</td>\n",
              "      <td>Moderate</td>\n",
              "      <td>Low</td>\n",
              "      <td>South China Sea</td>\n",
              "    </tr>\n",
              "    <tr>\n",
              "      <th>4</th>\n",
              "      <td>0.0</td>\n",
              "      <td>18</td>\n",
              "      <td>109000</td>\n",
              "      <td>7100000</td>\n",
              "      <td>Offshore Support Vessel</td>\n",
              "      <td>Delayed</td>\n",
              "      <td>Low</td>\n",
              "      <td>Low</td>\n",
              "      <td>Mediterranean</td>\n",
              "    </tr>\n",
              "  </tbody>\n",
              "</table>\n",
              "</div>\n",
              "    <div class=\"colab-df-buttons\">\n",
              "\n",
              "  <div class=\"colab-df-container\">\n",
              "    <button class=\"colab-df-convert\" onclick=\"convertToInteractive('df-2d2d4b49-2116-4c1b-9645-18fd98301c7c')\"\n",
              "            title=\"Convert this dataframe to an interactive table.\"\n",
              "            style=\"display:none;\">\n",
              "\n",
              "  <svg xmlns=\"http://www.w3.org/2000/svg\" height=\"24px\" viewBox=\"0 -960 960 960\">\n",
              "    <path d=\"M120-120v-720h720v720H120Zm60-500h600v-160H180v160Zm220 220h160v-160H400v160Zm0 220h160v-160H400v160ZM180-400h160v-160H180v160Zm440 0h160v-160H620v160ZM180-180h160v-160H180v160Zm440 0h160v-160H620v160Z\"/>\n",
              "  </svg>\n",
              "    </button>\n",
              "\n",
              "  <style>\n",
              "    .colab-df-container {\n",
              "      display:flex;\n",
              "      gap: 12px;\n",
              "    }\n",
              "\n",
              "    .colab-df-convert {\n",
              "      background-color: #E8F0FE;\n",
              "      border: none;\n",
              "      border-radius: 50%;\n",
              "      cursor: pointer;\n",
              "      display: none;\n",
              "      fill: #1967D2;\n",
              "      height: 32px;\n",
              "      padding: 0 0 0 0;\n",
              "      width: 32px;\n",
              "    }\n",
              "\n",
              "    .colab-df-convert:hover {\n",
              "      background-color: #E2EBFA;\n",
              "      box-shadow: 0px 1px 2px rgba(60, 64, 67, 0.3), 0px 1px 3px 1px rgba(60, 64, 67, 0.15);\n",
              "      fill: #174EA6;\n",
              "    }\n",
              "\n",
              "    .colab-df-buttons div {\n",
              "      margin-bottom: 4px;\n",
              "    }\n",
              "\n",
              "    [theme=dark] .colab-df-convert {\n",
              "      background-color: #3B4455;\n",
              "      fill: #D2E3FC;\n",
              "    }\n",
              "\n",
              "    [theme=dark] .colab-df-convert:hover {\n",
              "      background-color: #434B5C;\n",
              "      box-shadow: 0px 1px 3px 1px rgba(0, 0, 0, 0.15);\n",
              "      filter: drop-shadow(0px 1px 2px rgba(0, 0, 0, 0.3));\n",
              "      fill: #FFFFFF;\n",
              "    }\n",
              "  </style>\n",
              "\n",
              "    <script>\n",
              "      const buttonEl =\n",
              "        document.querySelector('#df-2d2d4b49-2116-4c1b-9645-18fd98301c7c button.colab-df-convert');\n",
              "      buttonEl.style.display =\n",
              "        google.colab.kernel.accessAllowed ? 'block' : 'none';\n",
              "\n",
              "      async function convertToInteractive(key) {\n",
              "        const element = document.querySelector('#df-2d2d4b49-2116-4c1b-9645-18fd98301c7c');\n",
              "        const dataTable =\n",
              "          await google.colab.kernel.invokeFunction('convertToInteractive',\n",
              "                                                    [key], {});\n",
              "        if (!dataTable) return;\n",
              "\n",
              "        const docLinkHtml = 'Like what you see? Visit the ' +\n",
              "          '<a target=\"_blank\" href=https://colab.research.google.com/notebooks/data_table.ipynb>data table notebook</a>'\n",
              "          + ' to learn more about interactive tables.';\n",
              "        element.innerHTML = '';\n",
              "        dataTable['output_type'] = 'display_data';\n",
              "        await google.colab.output.renderOutput(dataTable, element);\n",
              "        const docLink = document.createElement('div');\n",
              "        docLink.innerHTML = docLinkHtml;\n",
              "        element.appendChild(docLink);\n",
              "      }\n",
              "    </script>\n",
              "  </div>\n",
              "\n",
              "\n",
              "    <div id=\"df-ae92b6c6-c2f1-4b89-9732-7bf3bd193dec\">\n",
              "      <button class=\"colab-df-quickchart\" onclick=\"quickchart('df-ae92b6c6-c2f1-4b89-9732-7bf3bd193dec')\"\n",
              "                title=\"Suggest charts\"\n",
              "                style=\"display:none;\">\n",
              "\n",
              "<svg xmlns=\"http://www.w3.org/2000/svg\" height=\"24px\"viewBox=\"0 0 24 24\"\n",
              "     width=\"24px\">\n",
              "    <g>\n",
              "        <path d=\"M19 3H5c-1.1 0-2 .9-2 2v14c0 1.1.9 2 2 2h14c1.1 0 2-.9 2-2V5c0-1.1-.9-2-2-2zM9 17H7v-7h2v7zm4 0h-2V7h2v10zm4 0h-2v-4h2v4z\"/>\n",
              "    </g>\n",
              "</svg>\n",
              "      </button>\n",
              "\n",
              "<style>\n",
              "  .colab-df-quickchart {\n",
              "      --bg-color: #E8F0FE;\n",
              "      --fill-color: #1967D2;\n",
              "      --hover-bg-color: #E2EBFA;\n",
              "      --hover-fill-color: #174EA6;\n",
              "      --disabled-fill-color: #AAA;\n",
              "      --disabled-bg-color: #DDD;\n",
              "  }\n",
              "\n",
              "  [theme=dark] .colab-df-quickchart {\n",
              "      --bg-color: #3B4455;\n",
              "      --fill-color: #D2E3FC;\n",
              "      --hover-bg-color: #434B5C;\n",
              "      --hover-fill-color: #FFFFFF;\n",
              "      --disabled-bg-color: #3B4455;\n",
              "      --disabled-fill-color: #666;\n",
              "  }\n",
              "\n",
              "  .colab-df-quickchart {\n",
              "    background-color: var(--bg-color);\n",
              "    border: none;\n",
              "    border-radius: 50%;\n",
              "    cursor: pointer;\n",
              "    display: none;\n",
              "    fill: var(--fill-color);\n",
              "    height: 32px;\n",
              "    padding: 0;\n",
              "    width: 32px;\n",
              "  }\n",
              "\n",
              "  .colab-df-quickchart:hover {\n",
              "    background-color: var(--hover-bg-color);\n",
              "    box-shadow: 0 1px 2px rgba(60, 64, 67, 0.3), 0 1px 3px 1px rgba(60, 64, 67, 0.15);\n",
              "    fill: var(--button-hover-fill-color);\n",
              "  }\n",
              "\n",
              "  .colab-df-quickchart-complete:disabled,\n",
              "  .colab-df-quickchart-complete:disabled:hover {\n",
              "    background-color: var(--disabled-bg-color);\n",
              "    fill: var(--disabled-fill-color);\n",
              "    box-shadow: none;\n",
              "  }\n",
              "\n",
              "  .colab-df-spinner {\n",
              "    border: 2px solid var(--fill-color);\n",
              "    border-color: transparent;\n",
              "    border-bottom-color: var(--fill-color);\n",
              "    animation:\n",
              "      spin 1s steps(1) infinite;\n",
              "  }\n",
              "\n",
              "  @keyframes spin {\n",
              "    0% {\n",
              "      border-color: transparent;\n",
              "      border-bottom-color: var(--fill-color);\n",
              "      border-left-color: var(--fill-color);\n",
              "    }\n",
              "    20% {\n",
              "      border-color: transparent;\n",
              "      border-left-color: var(--fill-color);\n",
              "      border-top-color: var(--fill-color);\n",
              "    }\n",
              "    30% {\n",
              "      border-color: transparent;\n",
              "      border-left-color: var(--fill-color);\n",
              "      border-top-color: var(--fill-color);\n",
              "      border-right-color: var(--fill-color);\n",
              "    }\n",
              "    40% {\n",
              "      border-color: transparent;\n",
              "      border-right-color: var(--fill-color);\n",
              "      border-top-color: var(--fill-color);\n",
              "    }\n",
              "    60% {\n",
              "      border-color: transparent;\n",
              "      border-right-color: var(--fill-color);\n",
              "    }\n",
              "    80% {\n",
              "      border-color: transparent;\n",
              "      border-right-color: var(--fill-color);\n",
              "      border-bottom-color: var(--fill-color);\n",
              "    }\n",
              "    90% {\n",
              "      border-color: transparent;\n",
              "      border-bottom-color: var(--fill-color);\n",
              "    }\n",
              "  }\n",
              "</style>\n",
              "\n",
              "      <script>\n",
              "        async function quickchart(key) {\n",
              "          const quickchartButtonEl =\n",
              "            document.querySelector('#' + key + ' button');\n",
              "          quickchartButtonEl.disabled = true;  // To prevent multiple clicks.\n",
              "          quickchartButtonEl.classList.add('colab-df-spinner');\n",
              "          try {\n",
              "            const charts = await google.colab.kernel.invokeFunction(\n",
              "                'suggestCharts', [key], {});\n",
              "          } catch (error) {\n",
              "            console.error('Error during call to suggestCharts:', error);\n",
              "          }\n",
              "          quickchartButtonEl.classList.remove('colab-df-spinner');\n",
              "          quickchartButtonEl.classList.add('colab-df-quickchart-complete');\n",
              "        }\n",
              "        (() => {\n",
              "          let quickchartButtonEl =\n",
              "            document.querySelector('#df-ae92b6c6-c2f1-4b89-9732-7bf3bd193dec button');\n",
              "          quickchartButtonEl.style.display =\n",
              "            google.colab.kernel.accessAllowed ? 'block' : 'none';\n",
              "        })();\n",
              "      </script>\n",
              "    </div>\n",
              "\n",
              "    </div>\n",
              "  </div>\n"
            ],
            "application/vnd.google.colaboratory.intrinsic+json": {
              "type": "dataframe",
              "variable_name": "work",
              "summary": "{\n  \"name\": \"work\",\n  \"rows\": 300,\n  \"fields\": [\n    {\n      \"column\": \"log_claim\",\n      \"properties\": {\n        \"dtype\": \"number\",\n        \"std\": 6.122520351709506,\n        \"min\": 0.0,\n        \"max\": 15.418180016002971,\n        \"num_unique_values\": 71,\n        \"samples\": [\n          14.164051107239217,\n          0.0,\n          14.676827124084978\n        ],\n        \"semantic_type\": \"\",\n        \"description\": \"\"\n      }\n    },\n    {\n      \"column\": \"Vessel_Age\",\n      \"properties\": {\n        \"dtype\": \"number\",\n        \"std\": 9,\n        \"min\": 5,\n        \"max\": 40,\n        \"num_unique_values\": 36,\n        \"samples\": [\n          34,\n          24,\n          5\n        ],\n        \"semantic_type\": \"\",\n        \"description\": \"\"\n      }\n    },\n    {\n      \"column\": \"Premium\",\n      \"properties\": {\n        \"dtype\": \"number\",\n        \"std\": 28518,\n        \"min\": 103500,\n        \"max\": 200000,\n        \"num_unique_values\": 124,\n        \"samples\": [\n          168000,\n          161500,\n          110000\n        ],\n        \"semantic_type\": \"\",\n        \"description\": \"\"\n      }\n    },\n    {\n      \"column\": \"Sum_Insured\",\n      \"properties\": {\n        \"dtype\": \"number\",\n        \"std\": 4019749,\n        \"min\": 6150000,\n        \"max\": 19750000,\n        \"num_unique_values\": 124,\n        \"samples\": [\n          13200000,\n          13850000,\n          7000000\n        ],\n        \"semantic_type\": \"\",\n        \"description\": \"\"\n      }\n    },\n    {\n      \"column\": \"Vessel_Type\",\n      \"properties\": {\n        \"dtype\": \"category\",\n        \"num_unique_values\": 4,\n        \"samples\": [\n          \"Tanker\",\n          \"Offshore Support Vessel\",\n          \"Container Ship\"\n        ],\n        \"semantic_type\": \"\",\n        \"description\": \"\"\n      }\n    },\n    {\n      \"column\": \"Inspection_Status\",\n      \"properties\": {\n        \"dtype\": \"category\",\n        \"num_unique_values\": 3,\n        \"samples\": [\n          \"Overdue\",\n          \"Up-to-date\",\n          \"Delayed\"\n        ],\n        \"semantic_type\": \"\",\n        \"description\": \"\"\n      }\n    },\n    {\n      \"column\": \"Weather_Risk\",\n      \"properties\": {\n        \"dtype\": \"category\",\n        \"num_unique_values\": 3,\n        \"samples\": [\n          \"Moderate\",\n          \"High\",\n          \"Low\"\n        ],\n        \"semantic_type\": \"\",\n        \"description\": \"\"\n      }\n    },\n    {\n      \"column\": \"Piracy_Risk\",\n      \"properties\": {\n        \"dtype\": \"category\",\n        \"num_unique_values\": 3,\n        \"samples\": [\n          \"Moderate\",\n          \"High\",\n          \"Low\"\n        ],\n        \"semantic_type\": \"\",\n        \"description\": \"\"\n      }\n    },\n    {\n      \"column\": \"Operating_Zone\",\n      \"properties\": {\n        \"dtype\": \"category\",\n        \"num_unique_values\": 5,\n        \"samples\": [\n          \"Indian Ocean\",\n          \"North Atlantic\",\n          \"South China Sea\"\n        ],\n        \"semantic_type\": \"\",\n        \"description\": \"\"\n      }\n    }\n  ]\n}"
            }
          },
          "metadata": {},
          "execution_count": 4
        }
      ]
    },
    {
      "cell_type": "markdown",
      "id": "a4fbc250",
      "metadata": {
        "id": "a4fbc250"
      },
      "source": [
        "\n",
        "### Quick EDA\n",
        "\n",
        "We’ll examine:\n",
        "- Distribution of **log_claim**\n",
        "- Average claims by **Operating_Zone** (group heterogeneity glance)\n"
      ]
    },
    {
      "cell_type": "code",
      "execution_count": 5,
      "id": "54bb1185",
      "metadata": {
        "colab": {
          "base_uri": "https://localhost:8080/",
          "height": 653
        },
        "id": "54bb1185",
        "outputId": "f4bb0bbe-dca3-4d86-ca38-4f2845c9d1e3"
      },
      "outputs": [
        {
          "output_type": "display_data",
          "data": {
            "text/plain": [
              "<Figure size 640x480 with 1 Axes>"
            ],
            "image/png": "[encoded data removed]"
          },
          "metadata": {}
        },
        {
          "output_type": "stream",
          "name": "stdout",
          "text": [
            "Operating_Zone\n",
            "Strait of Malacca    8.024567\n",
            "South China Sea      3.115020\n",
            "Indian Ocean         2.403114\n",
            "North Atlantic       2.046658\n",
            "Mediterranean        1.415976\n",
            "Name: log_claim, dtype: float64\n"
          ]
        },
        {
          "output_type": "stream",
          "name": "stderr",
          "text": [
            "/tmp/ipython-input-1084510661.py:10: FutureWarning: The default of observed=False is deprecated and will be changed to True in a future version of pandas. Pass observed=False to retain current behavior or observed=True to adopt the future default and silence this warning.\n",
            "  zone_means = work.groupby('Operating_Zone')['log_claim'].mean().sort_values(ascending=False)\n"
          ]
        }
      ],
      "source": [
        "\n",
        "# Distribution of log_claim\n",
        "plt.figure()\n",
        "work['log_claim'].plot.hist(bins=30)\n",
        "plt.title('Distribution of log_claim')\n",
        "plt.xlabel('log(Claim_Amount + 1)')\n",
        "plt.ylabel('Count')\n",
        "plt.show()\n",
        "\n",
        "# Zone-level mean log_claim\n",
        "zone_means = work.groupby('Operating_Zone')['log_claim'].mean().sort_values(ascending=False)\n",
        "print(zone_means.head(10))\n"
      ]
    },
    {
      "cell_type": "markdown",
      "id": "54820bf3",
      "metadata": {
        "id": "54820bf3"
      },
      "source": [
        "\n",
        "---\n",
        "## Lab 1 – Exploring Fixed vs. Random Effects\n",
        "\n",
        "**Goal:** Understand when a variable should be treated as fixed or random.  \n",
        "We compare an **OLS (fixed-effects-only)** model vs. a **Mixed-Effects** model with **random intercepts by Operating_Zone**.\n"
      ]
    },
    {
      "cell_type": "code",
      "source": [
        "import numpy as np, pandas as pd\n",
        "import statsmodels.formula.api as smf\n",
        "import statsmodels.api as sm\n",
        "from sklearn.preprocessing import StandardScaler\n",
        "import patsy\n"
      ],
      "metadata": {
        "id": "Al8GN_zFsvmf"
      },
      "id": "Al8GN_zFsvmf",
      "execution_count": 7,
      "outputs": []
    },
    {
      "cell_type": "code",
      "source": [
        "tmp = work.copy()"
      ],
      "metadata": {
        "id": "dJlhdqL9szIM"
      },
      "id": "dJlhdqL9szIM",
      "execution_count": 8,
      "outputs": []
    },
    {
      "cell_type": "code",
      "source": [
        "# 0) Keep only zones with >= 2 observations (helps RE estimation)\n",
        "zone_counts = tmp['Operating_Zone'].value_counts()\n",
        "tmp = tmp[tmp['Operating_Zone'].isin(zone_counts[zone_counts >= 2].index)].copy()\n",
        "tmp['Operating_Zone'] = tmp['Operating_Zone'].astype('category')"
      ],
      "metadata": {
        "id": "jhbjxygJs1Y3"
      },
      "id": "jhbjxygJs1Y3",
      "execution_count": 9,
      "outputs": []
    },
    {
      "cell_type": "code",
      "source": [
        "# 1) Collapse rare categorical levels (min 2 rows)\n",
        "def collapse_rare(series, min_count=2, other='Other'):\n",
        "    vc = series.value_counts()\n",
        "    rare = vc[vc < min_count].index\n",
        "    return series.apply(lambda x: other if x in rare else x).astype('category')\n",
        "\n",
        "for cat in ['Vessel_Type','Inspection_Status','Weather_Risk','Piracy_Risk']:\n",
        "    tmp[cat] = collapse_rare(tmp[cat], min_count=2).astype(str)\n"
      ],
      "metadata": {
        "id": "O8c0vILSs3zm"
      },
      "id": "O8c0vILSs3zm",
      "execution_count": 14,
      "outputs": []
    },
    {
      "cell_type": "code",
      "source": [
        "# 2) Scale numerics; drop Sum_Insured if almost collinear with Premium\n",
        "corr_ps = tmp[['Premium','Sum_Insured']].corr().iloc[0,1]\n",
        "drop_sum_insured = abs(corr_ps) > 0.95\n",
        "\n",
        "numz = ['Vessel_Age','Premium'] + ([] if drop_sum_insured else ['Sum_Insured'])\n",
        "scaler = StandardScaler()\n",
        "tmp[[c+'_z' for c in numz]] = scaler.fit_transform(tmp[numz])\n"
      ],
      "metadata": {
        "id": "QkBpZ8ROs5YC"
      },
      "id": "QkBpZ8ROs5YC",
      "execution_count": 15,
      "outputs": []
    },
    {
      "cell_type": "code",
      "source": [],
      "metadata": {
        "id": "_7A5ZiKttBYS"
      },
      "id": "_7A5ZiKttBYS",
      "execution_count": 15,
      "outputs": []
    },
    {
      "cell_type": "code",
      "source": [
        "# 3) AUTO-DROP fixed effects with zero within-zone variance (non-identifiable with RI)\n",
        "def has_within_group_variation(s, g):\n",
        "    # True if at least one group shows >1 unique value (for numeric) or >1 level (for cat)\n",
        "    by = s.groupby(g)\n",
        "    # for numerics\n",
        "    if np.issubdtype(s.dropna().dtype, np.number):\n",
        "        return any(by.nunique() > 1)\n",
        "    # for categoricals/objects\n",
        "    return any(by.nunique() > 1)\n",
        "\n",
        "fixed_blocks = {\n",
        "    'NUM': ['Vessel_Age_z','Premium_z'] + ([] if drop_sum_insured else ['Sum_Insured_z']),\n",
        "    'VT' : ['C(Vessel_Type)'],\n",
        "    'IS' : ['C(Inspection_Status)'],\n",
        "    'WR' : ['C(Weather_Risk)'],\n",
        "    'PR' : ['C(Piracy_Risk)'],\n",
        "}\n"
      ],
      "metadata": {
        "id": "OaIW8xOYs78m"
      },
      "id": "OaIW8xOYs78m",
      "execution_count": 16,
      "outputs": []
    },
    {
      "cell_type": "code",
      "source": [
        "\n",
        "# Filter out blocks with zero within-zone variation\n",
        "kept_blocks = []\n",
        "for tag, terms in fixed_blocks.items():\n",
        "    keep = True\n",
        "    for t in terms:\n",
        "        if t.startswith('C('):  # categorical in patsy form\n",
        "            col = t[2:-1]\n",
        "            if not has_within_group_variation(tmp[col], tmp['Operating_Zone']):\n",
        "                keep = False\n",
        "                break\n",
        "        else:  # numeric z\n",
        "            base = t.replace('_z','')\n",
        "            if not has_within_group_variation(tmp[base], tmp['Operating_Zone']):\n",
        "                keep = False\n",
        "                break\n",
        "    if keep:\n",
        "        kept_blocks.append(tag)\n",
        "\n",
        "print(\"Blocks with within-zone variation:\", kept_blocks)\n"
      ],
      "metadata": {
        "colab": {
          "base_uri": "https://localhost:8080/"
        },
        "id": "liflNumQs-Ap",
        "outputId": "f65930ab-ad60-49b0-c4d9-defe11684e52"
      },
      "id": "liflNumQs-Ap",
      "execution_count": 17,
      "outputs": [
        {
          "output_type": "stream",
          "name": "stdout",
          "text": [
            "Blocks with within-zone variation: ['NUM', 'VT', 'IS', 'WR', 'PR']\n"
          ]
        },
        {
          "output_type": "stream",
          "name": "stderr",
          "text": [
            "/tmp/ipython-input-180552707.py:4: FutureWarning: The default of observed=False is deprecated and will be changed to True in a future version of pandas. Pass observed=False to retain current behavior or observed=True to adopt the future default and silence this warning.\n",
            "  by = s.groupby(g)\n"
          ]
        }
      ]
    },
    {
      "cell_type": "code",
      "source": [
        "# 4) Incremental fit: start minimal, add blocks one by one; skip if singular\n",
        "def try_mixed(rhs_terms):\n",
        "    formula = \"log_claim ~ \" + \" + \".join(rhs_terms)\n",
        "    try:\n",
        "        fit = sm.MixedLM.from_formula(formula, groups='Operating_Zone',\n",
        "                                      re_formula='1', data=tmp).fit(reml=True, method='lbfgs', maxiter=200)\n",
        "        return fit\n",
        "    except Exception as e:\n",
        "        return e\n",
        "\n",
        "# minimal numeric core\n",
        "rhs = fixed_blocks['NUM'].copy()\n",
        "print(\"Trying minimal NUM model:\", rhs)\n",
        "fit_best = try_mixed(rhs)\n",
        "if isinstance(fit_best, Exception):\n",
        "    # last resort: drop to a single numeric (Vessel_Age_z) and re-try\n",
        "    rhs = ['Vessel_Age_z']\n",
        "    print(\"Fallback minimal model:\", rhs)\n",
        "    fit_best = try_mixed(rhs)\n",
        "\n"
      ],
      "metadata": {
        "id": "1MzevAVdtd89"
      },
      "id": "1MzevAVdtd89",
      "execution_count": null,
      "outputs": []
    },
    {
      "cell_type": "code",
      "source": [
        "\n",
        "# add categorical blocks if available & identifiable\n",
        "for tag in ['VT','IS','WR','PR']:\n",
        "    if tag in kept_blocks:\n",
        "        candidate_rhs = rhs + fixed_blocks[tag]\n",
        "        print(\"Trying to add block\", tag, \"->\", candidate_rhs)\n",
        "        fit_try = try_mixed(candidate_rhs)\n",
        "        if not isinstance(fit_try, Exception):\n",
        "            rhs, fit_best = candidate_rhs, fit_try\n",
        "            print(\"Added\", tag)\n",
        "        else:\n",
        "            print(\"Skipping\", tag, \"due to singularity / convergence:\", fit_try)\n",
        "\n",
        "print(\"\\nFINAL FORMULA:\", \"log_claim ~ \" + \" + \".join(rhs))\n",
        "print(fit_best.summary() if not isinstance(fit_best, Exception) else fit_best)\n"
      ],
      "metadata": {
        "colab": {
          "base_uri": "https://localhost:8080/"
        },
        "id": "I_54DVw3J-Th",
        "outputId": "ee079231-63ce-404d-8842-c56e06be3982"
      },
      "id": "I_54DVw3J-Th",
      "execution_count": 18,
      "outputs": [
        {
          "output_type": "stream",
          "name": "stdout",
          "text": [
            "Trying minimal NUM model: ['Vessel_Age_z', 'Premium_z', 'Sum_Insured_z']\n",
            "Trying to add block VT -> ['Vessel_Age_z', 'Premium_z', 'Sum_Insured_z', 'C(Vessel_Type)']\n",
            "Added VT\n",
            "Trying to add block IS -> ['Vessel_Age_z', 'Premium_z', 'Sum_Insured_z', 'C(Vessel_Type)', 'C(Inspection_Status)']\n",
            "Added IS\n",
            "Trying to add block WR -> ['Vessel_Age_z', 'Premium_z', 'Sum_Insured_z', 'C(Vessel_Type)', 'C(Inspection_Status)', 'C(Weather_Risk)']\n",
            "Skipping WR due to singularity / convergence: Singular matrix\n",
            "Trying to add block PR -> ['Vessel_Age_z', 'Premium_z', 'Sum_Insured_z', 'C(Vessel_Type)', 'C(Inspection_Status)', 'C(Piracy_Risk)']\n",
            "Skipping PR due to singularity / convergence: Singular matrix\n",
            "\n",
            "FINAL FORMULA: log_claim ~ Vessel_Age_z + Premium_z + Sum_Insured_z + C(Vessel_Type) + C(Inspection_Status)\n",
            "                                Mixed Linear Model Regression Results\n",
            "=====================================================================================================\n",
            "Model:                            MixedLM                Dependent Variable:                log_claim\n",
            "No. Observations:                 300                    Method:                            REML     \n",
            "No. Groups:                       5                      Scale:                             32.3090  \n",
            "Min. group size:                  46                     Log-Likelihood:                    inf      \n",
            "Max. group size:                  71                     Converged:                         Yes      \n",
            "Mean group size:                  60.0                                                               \n",
            "-----------------------------------------------------------------------------------------------------\n",
            "                                          Coef.    Std.Err.     z    P>|z|     [0.025       0.975]   \n",
            "-----------------------------------------------------------------------------------------------------\n",
            "Intercept                                 -0.000 32957521.540 -0.000 1.000 -64595555.239 64595555.239\n",
            "C(Vessel_Type)[T.Container Ship]           0.038 23106973.949  0.000 1.000 -45288836.694 45288836.771\n",
            "C(Vessel_Type)[T.Offshore Support Vessel] -0.576 16836362.778 -0.000 1.000 -32998665.251 32998664.100\n",
            "C(Vessel_Type)[T.Tanker]                  -0.202 48710901.775 -0.000 1.000 -95471613.337 95471612.932\n",
            "C(Inspection_Status)[T.Overdue]            0.235        0.915  0.257 0.797        -1.558        2.027\n",
            "C(Inspection_Status)[T.Up-to-date]        -0.278        0.852 -0.326 0.745        -1.948        1.392\n",
            "Vessel_Age_z                               0.235                                                     \n",
            "Premium_z                                  0.059 13698539.501  0.000 1.000 -26848644.005 26848644.123\n",
            "Sum_Insured_z                              0.170                                                     \n",
            "Operating_Zone Var                         0.000                                                     \n",
            "=====================================================================================================\n",
            "\n"
          ]
        },
        {
          "output_type": "stream",
          "name": "stderr",
          "text": [
            "/usr/local/lib/python3.11/dist-packages/statsmodels/regression/mixed_linear_model.py:1634: UserWarning: Random effects covariance is singular\n",
            "  warnings.warn(msg)\n",
            "/usr/local/lib/python3.11/dist-packages/statsmodels/regression/mixed_linear_model.py:2054: UserWarning: The random effects covariance matrix is singular.\n",
            "  warnings.warn(_warn_cov_sing)\n",
            "/usr/local/lib/python3.11/dist-packages/statsmodels/regression/mixed_linear_model.py:2237: ConvergenceWarning: The MLE may be on the boundary of the parameter space.\n",
            "  warnings.warn(msg, ConvergenceWarning)\n",
            "/usr/local/lib/python3.11/dist-packages/statsmodels/regression/mixed_linear_model.py:2245: UserWarning: The random effects covariance matrix is singular.\n",
            "  warnings.warn(_warn_cov_sing)\n",
            "/usr/local/lib/python3.11/dist-packages/statsmodels/regression/mixed_linear_model.py:2261: ConvergenceWarning: The Hessian matrix at the estimated parameter values is not positive definite.\n",
            "  warnings.warn(msg, ConvergenceWarning)\n",
            "/usr/local/lib/python3.11/dist-packages/statsmodels/regression/mixed_linear_model.py:1634: UserWarning: Random effects covariance is singular\n",
            "  warnings.warn(msg)\n",
            "/usr/local/lib/python3.11/dist-packages/statsmodels/regression/mixed_linear_model.py:2054: UserWarning: The random effects covariance matrix is singular.\n",
            "  warnings.warn(_warn_cov_sing)\n",
            "/usr/local/lib/python3.11/dist-packages/statsmodels/regression/mixed_linear_model.py:2237: ConvergenceWarning: The MLE may be on the boundary of the parameter space.\n",
            "  warnings.warn(msg, ConvergenceWarning)\n",
            "/usr/local/lib/python3.11/dist-packages/statsmodels/regression/mixed_linear_model.py:2245: UserWarning: The random effects covariance matrix is singular.\n",
            "  warnings.warn(_warn_cov_sing)\n",
            "/usr/local/lib/python3.11/dist-packages/statsmodels/regression/mixed_linear_model.py:2261: ConvergenceWarning: The Hessian matrix at the estimated parameter values is not positive definite.\n",
            "  warnings.warn(msg, ConvergenceWarning)\n",
            "/usr/local/lib/python3.11/dist-packages/statsmodels/regression/mixed_linear_model.py:1634: UserWarning: Random effects covariance is singular\n",
            "  warnings.warn(msg)\n",
            "/usr/local/lib/python3.11/dist-packages/statsmodels/regression/mixed_linear_model.py:2054: UserWarning: The random effects covariance matrix is singular.\n",
            "  warnings.warn(_warn_cov_sing)\n",
            "/usr/local/lib/python3.11/dist-packages/statsmodels/regression/mixed_linear_model.py:2237: ConvergenceWarning: The MLE may be on the boundary of the parameter space.\n",
            "  warnings.warn(msg, ConvergenceWarning)\n",
            "/usr/local/lib/python3.11/dist-packages/statsmodels/regression/mixed_linear_model.py:2245: UserWarning: The random effects covariance matrix is singular.\n",
            "  warnings.warn(_warn_cov_sing)\n",
            "/usr/local/lib/python3.11/dist-packages/statsmodels/regression/mixed_linear_model.py:2261: ConvergenceWarning: The Hessian matrix at the estimated parameter values is not positive definite.\n",
            "  warnings.warn(msg, ConvergenceWarning)\n",
            "/usr/local/lib/python3.11/dist-packages/statsmodels/regression/mixed_linear_model.py:2704: RuntimeWarning: invalid value encountered in sqrt\n",
            "  sdf[0:self.k_fe, 1] = np.sqrt(np.diag(self.cov_params()[0:self.k_fe]))\n"
          ]
        }
      ]
    },
    {
      "cell_type": "markdown",
      "id": "7766e81f",
      "metadata": {
        "id": "7766e81f"
      },
      "source": [
        "\n",
        "**Discussion prompts (record your notes):**\n",
        "- Did the mixed model reduce AIC vs OLS?\n",
        "- Which fixed effects remain significant after adding random intercepts?\n",
        "- Why might **Operating_Zone** heterogeneity matter for hull insurance pricing or risk?\n"
      ]
    },
    {
      "cell_type": "markdown",
      "id": "eb3b25f9",
      "metadata": {
        "id": "eb3b25f9"
      },
      "source": [
        "\n",
        "---\n",
        "## Lab 2 – Frequentist vs. Bayesian Approaches\n",
        "\n",
        "**Goal:** Compare estimates and interval interpretations across frequentist and Bayesian frameworks.\n",
        "\n",
        "- **Frequentist**: We already fit using `statsmodels` MixedLM.\n",
        "- **Bayesian**: Below is a **template** using `PyMC`/`Bambi`. This environment may not have these libraries preinstalled. The cell checks availability and, if missing, **skips execution** but leaves **ready-to-run code** for your environment.\n"
      ]
    },
    {
      "cell_type": "code",
      "source": [
        "!pip install bambi --quiet"
      ],
      "metadata": {
        "colab": {
          "base_uri": "https://localhost:8080/"
        },
        "id": "v-fF0RajnaKb",
        "outputId": "6a998022-0f56-4884-9421-0f8ec705c6b0"
      },
      "id": "v-fF0RajnaKb",
      "execution_count": 15,
      "outputs": [
        {
          "output_type": "stream",
          "name": "stdout",
          "text": [
            "\u001b[?25l   \u001b[90m━━━━━━━━━━━━━━━━━━━━━━━━━━━━━━━━━━━━━━━━\u001b[0m \u001b[32m0.0/109.2 kB\u001b[0m \u001b[31m?\u001b[0m eta \u001b[36m-:--:--\u001b[0m\r\u001b[2K   \u001b[90m━━━━━━━━━━━━━━━━━━━━━━━━━━━━━━━━━━━━━━━━\u001b[0m \u001b[32m109.2/109.2 kB\u001b[0m \u001b[31m3.0 MB/s\u001b[0m eta \u001b[36m0:00:00\u001b[0m\n",
            "\u001b[?25h\u001b[?25l   \u001b[90m━━━━━━━━━━━━━━━━━━━━━━━━━━━━━━━━━━━━━━━━\u001b[0m \u001b[32m0.0/53.7 kB\u001b[0m \u001b[31m?\u001b[0m eta \u001b[36m-:--:--\u001b[0m\r\u001b[2K   \u001b[90m━━━━━━━━━━━━━━━━━━━━━━━━━━━━━━━━━━━━━━━━\u001b[0m \u001b[32m53.7/53.7 kB\u001b[0m \u001b[31m3.5 MB/s\u001b[0m eta \u001b[36m0:00:00\u001b[0m\n",
            "\u001b[?25h"
          ]
        }
      ]
    },
    {
      "cell_type": "code",
      "source": [
        "# ==== Lab 2: Frequentist vs Bayesian (Template + Fallback) ====\n",
        "import importlib, sys\n",
        "\n",
        "has_bambi = importlib.util.find_spec('bambi') is not None\n",
        "has_pymc = importlib.util.find_spec('pymc') is not None\n",
        "\n",
        "print('Has bambi:', has_bambi)\n",
        "print('Has pymc:', has_pymc)\n"
      ],
      "metadata": {
        "colab": {
          "base_uri": "https://localhost:8080/"
        },
        "id": "WEEf3kU6KQr5",
        "outputId": "2798c404-8a82-4284-c8e5-853eed87b622"
      },
      "id": "WEEf3kU6KQr5",
      "execution_count": 23,
      "outputs": [
        {
          "output_type": "stream",
          "name": "stdout",
          "text": [
            "Has bambi: True\n",
            "Has pymc: True\n"
          ]
        }
      ]
    },
    {
      "cell_type": "code",
      "source": [],
      "metadata": {
        "id": "2Hr77PtdnZOf"
      },
      "id": "2Hr77PtdnZOf",
      "execution_count": 23,
      "outputs": []
    },
    {
      "cell_type": "code",
      "execution_count": 26,
      "id": "0fb93505",
      "metadata": {
        "colab": {
          "base_uri": "https://localhost:8080/",
          "height": 386,
          "referenced_widgets": [
            "d3ff73a150d3417484dddaf569d4ccb3",
            "0f2ab1dd64ef4053bb544fb69fb89496"
          ]
        },
        "id": "0fb93505",
        "outputId": "af16c4c8-da2a-4558-edb6-74556daac54e"
      },
      "outputs": [
        {
          "output_type": "display_data",
          "data": {
            "text/plain": [
              "Output()"
            ],
            "application/vnd.jupyter.widget-view+json": {
              "version_major": 2,
              "version_minor": 0,
              "model_id": "d3ff73a150d3417484dddaf569d4ccb3"
            }
          },
          "metadata": {}
        },
        {
          "output_type": "display_data",
          "data": {
            "text/plain": [],
            "text/html": [
              "<pre style=\"white-space:pre;overflow-x:auto;line-height:normal;font-family:Menlo,'DejaVu Sans Mono',consolas,'Courier New',monospace\"></pre>\n"
            ]
          },
          "metadata": {}
        },
        {
          "output_type": "stream",
          "name": "stdout",
          "text": [
            "Inference data with groups:\n",
            "\t> posterior\n",
            "\t> sample_stats\n",
            "\t> observed_data\n"
          ]
        },
        {
          "output_type": "error",
          "ename": "AttributeError",
          "evalue": "'Model' object has no attribute 'summary'",
          "traceback": [
            "\u001b[0;31m---------------------------------------------------------------------------\u001b[0m",
            "\u001b[0;31mAttributeError\u001b[0m                            Traceback (most recent call last)",
            "\u001b[0;32m/tmp/ipython-input-4166273218.py\u001b[0m in \u001b[0;36m<cell line: 0>\u001b[0;34m()\u001b[0m\n\u001b[1;32m     11\u001b[0m     \u001b[0mprint\u001b[0m\u001b[0;34m(\u001b[0m\u001b[0midata\u001b[0m\u001b[0;34m)\u001b[0m\u001b[0;34m\u001b[0m\u001b[0;34m\u001b[0m\u001b[0m\n\u001b[1;32m     12\u001b[0m     \u001b[0;31m# Posterior summaries\u001b[0m\u001b[0;34m\u001b[0m\u001b[0;34m\u001b[0m\u001b[0m\n\u001b[0;32m---> 13\u001b[0;31m     \u001b[0mprint\u001b[0m\u001b[0;34m(\u001b[0m\u001b[0mmodel_bayes\u001b[0m\u001b[0;34m.\u001b[0m\u001b[0msummary\u001b[0m\u001b[0;34m(\u001b[0m\u001b[0;34m)\u001b[0m\u001b[0;34m)\u001b[0m\u001b[0;34m\u001b[0m\u001b[0;34m\u001b[0m\u001b[0m\n\u001b[0m\u001b[1;32m     14\u001b[0m \u001b[0;32melse\u001b[0m\u001b[0;34m:\u001b[0m\u001b[0;34m\u001b[0m\u001b[0;34m\u001b[0m\u001b[0m\n\u001b[1;32m     15\u001b[0m     \u001b[0mprint\u001b[0m\u001b[0;34m(\u001b[0m\u001b[0;34m'\\nBayesian libraries not available in this runtime.'\u001b[0m\u001b[0;34m)\u001b[0m\u001b[0;34m\u001b[0m\u001b[0;34m\u001b[0m\u001b[0m\n",
            "\u001b[0;31mAttributeError\u001b[0m: 'Model' object has no attribute 'summary'"
          ]
        }
      ],
      "source": [
        "\n",
        "\n",
        "if has_bambi and has_pymc:\n",
        "    import bambi as bmb\n",
        "    # Bayesian mixed model analogous to Lab 2\n",
        "    # Using weakly-informative priors by default\n",
        "    model_bayes = bmb.Model(\n",
        "        'log_claim ~ Vessel_Age + Premium + Sum_Insured + 1 + (1 + Vessel_Age|Operating_Zone) + '\n",
        "        'C(Vessel_Type) + C(Inspection_Status) + C(Weather_Risk) + C(Piracy_Risk)',\n",
        "        data=work\n",
        "    )\n",
        "    idata = model_bayes.fit(draws=1000, chains=2, cores=1)\n",
        "    print(idata)\n",
        "    # Posterior summaries\n",
        "    print(model_bayes.summary())\n",
        "else:\n",
        "    print('\\nBayesian libraries not available in this runtime.')\n",
        "    print('Template code is provided below for environments with PyMC/Bambi installed.')\n"
      ]
    },
    {
      "cell_type": "markdown",
      "id": "311546b7",
      "metadata": {
        "id": "311546b7"
      },
      "source": [
        "\n",
        "### Template: Bayesian Mixed Model with PyMC (via Bambi)\n",
        "\n",
        "```python\n",
        "import bambi as bmb\n",
        "model_bayes = bmb.Model(\n",
        "    'log_claim ~ Vessel_Age + Premium + Sum_Insured + 1 + (1 + Vessel_Age|Operating_Zone) + '\n",
        "    'C(Vessel_Type) + C(Inspection_Status) + C(Weather_Risk) + C(Piracy_Risk)',\n",
        "    data=work\n",
        ")\n",
        "idata = model_bayes.fit(draws=2000, chains=4, cores=4)\n",
        "model_bayes.summary()\n",
        "# Compare: frequentist confidence intervals vs. Bayesian credible intervals.\n",
        "```\n"
      ]
    },
    {
      "cell_type": "code",
      "source": [],
      "metadata": {
        "id": "I5r2HVelKKLt"
      },
      "id": "I5r2HVelKKLt",
      "execution_count": null,
      "outputs": []
    }
  ],
  "metadata": {
    "colab": {
      "provenance": [],
      "include_colab_link": true
    },
    "language_info": {
      "name": "python"
    },
    "kernelspec": {
      "name": "python3",
      "display_name": "Python 3"
    },
    "widgets": {
      "application/vnd.jupyter.widget-state+json": {
        "d3ff73a150d3417484dddaf569d4ccb3": {
          "model_module": "@jupyter-widgets/output",
          "model_name": "OutputModel",
          "model_module_version": "1.0.0",
          "state": {
            "_dom_classes": [],
            "_model_module": "@jupyter-widgets/output",
            "_model_module_version": "1.0.0",
            "_model_name": "OutputModel",
            "_view_count": null,
            "_view_module": "@jupyter-widgets/output",
            "_view_module_version": "1.0.0",
            "_view_name": "OutputView",
            "layout": "IPY_MODEL_0f2ab1dd64ef4053bb544fb69fb89496",
            "msg_id": "",
            "outputs": [
              {
                "output_type": "display_data",
                "data": {
                  "text/plain": "                                                                                                                   \n \u001b[1m \u001b[0m\u001b[1mProgress                 \u001b[0m\u001b[1m \u001b[0m \u001b[1m \u001b[0m\u001b[1mDraws\u001b[0m\u001b[1m \u001b[0m \u001b[1m \u001b[0m\u001b[1mDivergences\u001b[0m\u001b[1m \u001b[0m \u001b[1m \u001b[0m\u001b[1mStep size\u001b[0m\u001b[1m \u001b[0m \u001b[1m \u001b[0m\u001b[1mGrad evals\u001b[0m\u001b[1m \u001b[0m \u001b[1m \u001b[0m\u001b[1mSampling Speed\u001b[0m\u001b[1m \u001b[0m \u001b[1m \u001b[0m\u001b[1mElapsed\u001b[0m\u001b[1m \u001b[0m \u001b[1m \u001b[0m\u001b[1mRemaining\u001b[0m\u001b[1m \u001b[0m \n ───────────────────────────────────────────────────────────────────────────────────────────────────────────────── \n  \u001b[38;2;31;119;180m━━━━━━━━━━━━━━━━━━━━━━━━━\u001b[0m   2000    0             0.01        255          20.41 draws/s    0:01:37   0:00:00    \n  \u001b[38;2;31;119;180m━━━━━━━━━━━━━━━━━━━━━━━━━\u001b[0m   2000    0             0.01        255          8.94 draws/s     0:03:43   0:00:00    \n                                                                                                                   \n",
                  "text/html": "<pre style=\"white-space:pre;overflow-x:auto;line-height:normal;font-family:Menlo,'DejaVu Sans Mono',consolas,'Courier New',monospace\">                                                                                                                   \n <span style=\"font-weight: bold\"> Progress                  </span> <span style=\"font-weight: bold\"> Draws </span> <span style=\"font-weight: bold\"> Divergences </span> <span style=\"font-weight: bold\"> Step size </span> <span style=\"font-weight: bold\"> Grad evals </span> <span style=\"font-weight: bold\"> Sampling Speed </span> <span style=\"font-weight: bold\"> Elapsed </span> <span style=\"font-weight: bold\"> Remaining </span> \n ───────────────────────────────────────────────────────────────────────────────────────────────────────────────── \n  <span style=\"color: #1f77b4; text-decoration-color: #1f77b4\">━━━━━━━━━━━━━━━━━━━━━━━━━</span>   2000    0             0.01        255          20.41 draws/s    0:01:37   0:00:00    \n  <span style=\"color: #1f77b4; text-decoration-color: #1f77b4\">━━━━━━━━━━━━━━━━━━━━━━━━━</span>   2000    0             0.01        255          8.94 draws/s     0:03:43   0:00:00    \n                                                                                                                   \n</pre>\n"
                },
                "metadata": {}
              }
            ]
          }
        },
        "0f2ab1dd64ef4053bb544fb69fb89496": {
          "model_module": "@jupyter-widgets/base",
          "model_name": "LayoutModel",
          "model_module_version": "1.2.0",
          "state": {
            "_model_module": "@jupyter-widgets/base",
            "_model_module_version": "1.2.0",
            "_model_name": "LayoutModel",
            "_view_count": null,
            "_view_module": "@jupyter-widgets/base",
            "_view_module_version": "1.2.0",
            "_view_name": "LayoutView",
            "align_content": null,
            "align_items": null,
            "align_self": null,
            "border": null,
            "bottom": null,
            "display": null,
            "flex": null,
            "flex_flow": null,
            "grid_area": null,
            "grid_auto_columns": null,
            "grid_auto_flow": null,
            "grid_auto_rows": null,
            "grid_column": null,
            "grid_gap": null,
            "grid_row": null,
            "grid_template_areas": null,
            "grid_template_columns": null,
            "grid_template_rows": null,
            "height": null,
            "justify_content": null,
            "justify_items": null,
            "left": null,
            "margin": null,
            "max_height": null,
            "max_width": null,
            "min_height": null,
            "min_width": null,
            "object_fit": null,
            "object_position": null,
            "order": null,
            "overflow": null,
            "overflow_x": null,
            "overflow_y": null,
            "padding": null,
            "right": null,
            "top": null,
            "visibility": null,
            "width": null
          }
        }
      }
    }
  },
  "nbformat": 4,
  "nbformat_minor": 5
}