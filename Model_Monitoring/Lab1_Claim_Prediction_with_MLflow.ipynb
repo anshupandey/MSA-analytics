{
  "cells": [
    {
      "cell_type": "markdown",
      "metadata": {
        "id": "view-in-github",
        "colab_type": "text"
      },
      "source": [
        "<a href=\"https://colab.research.google.com/github/anshupandey/MSA-analytics/blob/main/Model_Monitoring/Lab1_Claim_Prediction_with_MLflow.ipynb\" target=\"_parent\"><img src=\"https://colab.research.google.com/assets/colab-badge.svg\" alt=\"Open In Colab\"/></a>"
      ]
    },
    {
      "cell_type": "markdown",
      "id": "0a98676b",
      "metadata": {
        "id": "0a98676b"
      },
      "source": [
        "# 🧪 Lab 1: Binary Classification for Insurance Claim Prediction with MLflow\n",
        "\n",
        "In this lab, we'll train a binary classifier on the Ocean Hull Insurance dataset to predict whether an insurance claim will occur (`Claim_Occurred`).\n",
        "\n",
        "We'll also log the model, metrics, and pipeline using **MLflow** for experiment tracking and reproducibility."
      ]
    },
    {
      "cell_type": "markdown",
      "id": "dd5ba549",
      "metadata": {
        "id": "dd5ba549"
      },
      "source": [
        "## 📦 Step 1: Load and Explore the Data"
      ]
    },
    {
      "cell_type": "code",
      "source": [
        "!pip install mlflow --quiet"
      ],
      "metadata": {
        "id": "D23IdLYXxNpx",
        "colab": {
          "base_uri": "https://localhost:8080/"
        },
        "outputId": "1410ae0d-1d98-4065-a137-3f640560fda8"
      },
      "id": "D23IdLYXxNpx",
      "execution_count": 1,
      "outputs": [
        {
          "output_type": "stream",
          "name": "stdout",
          "text": [
            "\u001b[2K   \u001b[90m━━━━━━━━━━━━━━━━━━━━━━━━━━━━━━━━━━━━━━━━\u001b[0m \u001b[32m24.7/24.7 MB\u001b[0m \u001b[31m78.2 MB/s\u001b[0m eta \u001b[36m0:00:00\u001b[0m\n",
            "\u001b[2K   \u001b[90m━━━━━━━━━━━━━━━━━━━━━━━━━━━━━━━━━━━━━━━━\u001b[0m \u001b[32m1.9/1.9 MB\u001b[0m \u001b[31m71.3 MB/s\u001b[0m eta \u001b[36m0:00:00\u001b[0m\n",
            "\u001b[2K   \u001b[90m━━━━━━━━━━━━━━━━━━━━━━━━━━━━━━━━━━━━━━━━\u001b[0m \u001b[32m242.7/242.7 kB\u001b[0m \u001b[31m17.0 MB/s\u001b[0m eta \u001b[36m0:00:00\u001b[0m\n",
            "\u001b[2K   \u001b[90m━━━━━━━━━━━━━━━━━━━━━━━━━━━━━━━━━━━━━━━━\u001b[0m \u001b[32m147.8/147.8 kB\u001b[0m \u001b[31m11.1 MB/s\u001b[0m eta \u001b[36m0:00:00\u001b[0m\n",
            "\u001b[2K   \u001b[90m━━━━━━━━━━━━━━━━━━━━━━━━━━━━━━━━━━━━━━━━\u001b[0m \u001b[32m114.9/114.9 kB\u001b[0m \u001b[31m8.7 MB/s\u001b[0m eta \u001b[36m0:00:00\u001b[0m\n",
            "\u001b[2K   \u001b[90m━━━━━━━━━━━━━━━━━━━━━━━━━━━━━━━━━━━━━━━━\u001b[0m \u001b[32m85.0/85.0 kB\u001b[0m \u001b[31m5.1 MB/s\u001b[0m eta \u001b[36m0:00:00\u001b[0m\n",
            "\u001b[2K   \u001b[90m━━━━━━━━━━━━━━━━━━━━━━━━━━━━━━━━━━━━━━━━\u001b[0m \u001b[32m733.8/733.8 kB\u001b[0m \u001b[31m40.3 MB/s\u001b[0m eta \u001b[36m0:00:00\u001b[0m\n",
            "\u001b[2K   \u001b[90m━━━━━━━━━━━━━━━━━━━━━━━━━━━━━━━━━━━━━━━━\u001b[0m \u001b[32m203.4/203.4 kB\u001b[0m \u001b[31m15.1 MB/s\u001b[0m eta \u001b[36m0:00:00\u001b[0m\n",
            "\u001b[2K   \u001b[90m━━━━━━━━━━━━━━━━━━━━━━━━━━━━━━━━━━━━━━━━\u001b[0m \u001b[32m65.8/65.8 kB\u001b[0m \u001b[31m5.1 MB/s\u001b[0m eta \u001b[36m0:00:00\u001b[0m\n",
            "\u001b[2K   \u001b[90m━━━━━━━━━━━━━━━━━━━━━━━━━━━━━━━━━━━━━━━━\u001b[0m \u001b[32m118.5/118.5 kB\u001b[0m \u001b[31m9.0 MB/s\u001b[0m eta \u001b[36m0:00:00\u001b[0m\n",
            "\u001b[2K   \u001b[90m━━━━━━━━━━━━━━━━━━━━━━━━━━━━━━━━━━━━━━━━\u001b[0m \u001b[32m196.2/196.2 kB\u001b[0m \u001b[31m13.6 MB/s\u001b[0m eta \u001b[36m0:00:00\u001b[0m\n",
            "\u001b[?25h"
          ]
        }
      ]
    },
    {
      "cell_type": "code",
      "execution_count": 2,
      "id": "0cdd92ea",
      "metadata": {
        "colab": {
          "base_uri": "https://localhost:8080/",
          "height": 258
        },
        "id": "0cdd92ea",
        "outputId": "3b5f12c7-3697-4f2d-d362-3badaef71405"
      },
      "outputs": [
        {
          "output_type": "execute_result",
          "data": {
            "text/plain": [
              "               Vessel_Type     Operating_Zone  Vessel_Age        Flag_State  \\\n",
              "0           Container Ship  Strait of Malacca          19  Marshall Islands   \n",
              "1           Container Ship  Strait of Malacca          40  Marshall Islands   \n",
              "2                   Tanker       Indian Ocean          26            Greece   \n",
              "3             Bulk Carrier    South China Sea           7            Greece   \n",
              "4  Offshore Support Vessel      Mediterranean          18           Liberia   \n",
              "\n",
              "  Inspection_Status Weather_Risk Piracy_Risk  Claim_Occurred  Claim_Amount  \\\n",
              "0           Overdue     Moderate    Moderate               0             0   \n",
              "1        Up-to-date         High        High               0             0   \n",
              "2           Delayed          Low         Low               0             0   \n",
              "3        Up-to-date     Moderate         Low               0             0   \n",
              "4           Delayed          Low         Low               0             0   \n",
              "\n",
              "   Premium  Sum_Insured  Daily_Return  Initial_Investment    Final_Value  \n",
              "0   159500     14050000      0.000997             95700.0  104676.840752  \n",
              "1   170000     13000000      0.000362            102000.0  105374.760051  \n",
              "2   193000     18700000      0.001148            115800.0  128393.183954  \n",
              "3   123500     11650000      0.002023             74100.0   88881.524555  \n",
              "4   109000      7100000      0.000266             65400.0   66983.429972  "
            ],
            "text/html": [
              "\n",
              "  <div id=\"df-49318a9a-f393-4a62-b826-532d3018c903\" class=\"colab-df-container\">\n",
              "    <div>\n",
              "<style scoped>\n",
              "    .dataframe tbody tr th:only-of-type {\n",
              "        vertical-align: middle;\n",
              "    }\n",
              "\n",
              "    .dataframe tbody tr th {\n",
              "        vertical-align: top;\n",
              "    }\n",
              "\n",
              "    .dataframe thead th {\n",
              "        text-align: right;\n",
              "    }\n",
              "</style>\n",
              "<table border=\"1\" class=\"dataframe\">\n",
              "  <thead>\n",
              "    <tr style=\"text-align: right;\">\n",
              "      <th></th>\n",
              "      <th>Vessel_Type</th>\n",
              "      <th>Operating_Zone</th>\n",
              "      <th>Vessel_Age</th>\n",
              "      <th>Flag_State</th>\n",
              "      <th>Inspection_Status</th>\n",
              "      <th>Weather_Risk</th>\n",
              "      <th>Piracy_Risk</th>\n",
              "      <th>Claim_Occurred</th>\n",
              "      <th>Claim_Amount</th>\n",
              "      <th>Premium</th>\n",
              "      <th>Sum_Insured</th>\n",
              "      <th>Daily_Return</th>\n",
              "      <th>Initial_Investment</th>\n",
              "      <th>Final_Value</th>\n",
              "    </tr>\n",
              "  </thead>\n",
              "  <tbody>\n",
              "    <tr>\n",
              "      <th>0</th>\n",
              "      <td>Container Ship</td>\n",
              "      <td>Strait of Malacca</td>\n",
              "      <td>19</td>\n",
              "      <td>Marshall Islands</td>\n",
              "      <td>Overdue</td>\n",
              "      <td>Moderate</td>\n",
              "      <td>Moderate</td>\n",
              "      <td>0</td>\n",
              "      <td>0</td>\n",
              "      <td>159500</td>\n",
              "      <td>14050000</td>\n",
              "      <td>0.000997</td>\n",
              "      <td>95700.0</td>\n",
              "      <td>104676.840752</td>\n",
              "    </tr>\n",
              "    <tr>\n",
              "      <th>1</th>\n",
              "      <td>Container Ship</td>\n",
              "      <td>Strait of Malacca</td>\n",
              "      <td>40</td>\n",
              "      <td>Marshall Islands</td>\n",
              "      <td>Up-to-date</td>\n",
              "      <td>High</td>\n",
              "      <td>High</td>\n",
              "      <td>0</td>\n",
              "      <td>0</td>\n",
              "      <td>170000</td>\n",
              "      <td>13000000</td>\n",
              "      <td>0.000362</td>\n",
              "      <td>102000.0</td>\n",
              "      <td>105374.760051</td>\n",
              "    </tr>\n",
              "    <tr>\n",
              "      <th>2</th>\n",
              "      <td>Tanker</td>\n",
              "      <td>Indian Ocean</td>\n",
              "      <td>26</td>\n",
              "      <td>Greece</td>\n",
              "      <td>Delayed</td>\n",
              "      <td>Low</td>\n",
              "      <td>Low</td>\n",
              "      <td>0</td>\n",
              "      <td>0</td>\n",
              "      <td>193000</td>\n",
              "      <td>18700000</td>\n",
              "      <td>0.001148</td>\n",
              "      <td>115800.0</td>\n",
              "      <td>128393.183954</td>\n",
              "    </tr>\n",
              "    <tr>\n",
              "      <th>3</th>\n",
              "      <td>Bulk Carrier</td>\n",
              "      <td>South China Sea</td>\n",
              "      <td>7</td>\n",
              "      <td>Greece</td>\n",
              "      <td>Up-to-date</td>\n",
              "      <td>Moderate</td>\n",
              "      <td>Low</td>\n",
              "      <td>0</td>\n",
              "      <td>0</td>\n",
              "      <td>123500</td>\n",
              "      <td>11650000</td>\n",
              "      <td>0.002023</td>\n",
              "      <td>74100.0</td>\n",
              "      <td>88881.524555</td>\n",
              "    </tr>\n",
              "    <tr>\n",
              "      <th>4</th>\n",
              "      <td>Offshore Support Vessel</td>\n",
              "      <td>Mediterranean</td>\n",
              "      <td>18</td>\n",
              "      <td>Liberia</td>\n",
              "      <td>Delayed</td>\n",
              "      <td>Low</td>\n",
              "      <td>Low</td>\n",
              "      <td>0</td>\n",
              "      <td>0</td>\n",
              "      <td>109000</td>\n",
              "      <td>7100000</td>\n",
              "      <td>0.000266</td>\n",
              "      <td>65400.0</td>\n",
              "      <td>66983.429972</td>\n",
              "    </tr>\n",
              "  </tbody>\n",
              "</table>\n",
              "</div>\n",
              "    <div class=\"colab-df-buttons\">\n",
              "\n",
              "  <div class=\"colab-df-container\">\n",
              "    <button class=\"colab-df-convert\" onclick=\"convertToInteractive('df-49318a9a-f393-4a62-b826-532d3018c903')\"\n",
              "            title=\"Convert this dataframe to an interactive table.\"\n",
              "            style=\"display:none;\">\n",
              "\n",
              "  <svg xmlns=\"http://www.w3.org/2000/svg\" height=\"24px\" viewBox=\"0 -960 960 960\">\n",
              "    <path d=\"M120-120v-720h720v720H120Zm60-500h600v-160H180v160Zm220 220h160v-160H400v160Zm0 220h160v-160H400v160ZM180-400h160v-160H180v160Zm440 0h160v-160H620v160ZM180-180h160v-160H180v160Zm440 0h160v-160H620v160Z\"/>\n",
              "  </svg>\n",
              "    </button>\n",
              "\n",
              "  <style>\n",
              "    .colab-df-container {\n",
              "      display:flex;\n",
              "      gap: 12px;\n",
              "    }\n",
              "\n",
              "    .colab-df-convert {\n",
              "      background-color: #E8F0FE;\n",
              "      border: none;\n",
              "      border-radius: 50%;\n",
              "      cursor: pointer;\n",
              "      display: none;\n",
              "      fill: #1967D2;\n",
              "      height: 32px;\n",
              "      padding: 0 0 0 0;\n",
              "      width: 32px;\n",
              "    }\n",
              "\n",
              "    .colab-df-convert:hover {\n",
              "      background-color: #E2EBFA;\n",
              "      box-shadow: 0px 1px 2px rgba(60, 64, 67, 0.3), 0px 1px 3px 1px rgba(60, 64, 67, 0.15);\n",
              "      fill: #174EA6;\n",
              "    }\n",
              "\n",
              "    .colab-df-buttons div {\n",
              "      margin-bottom: 4px;\n",
              "    }\n",
              "\n",
              "    [theme=dark] .colab-df-convert {\n",
              "      background-color: #3B4455;\n",
              "      fill: #D2E3FC;\n",
              "    }\n",
              "\n",
              "    [theme=dark] .colab-df-convert:hover {\n",
              "      background-color: #434B5C;\n",
              "      box-shadow: 0px 1px 3px 1px rgba(0, 0, 0, 0.15);\n",
              "      filter: drop-shadow(0px 1px 2px rgba(0, 0, 0, 0.3));\n",
              "      fill: #FFFFFF;\n",
              "    }\n",
              "  </style>\n",
              "\n",
              "    <script>\n",
              "      const buttonEl =\n",
              "        document.querySelector('#df-49318a9a-f393-4a62-b826-532d3018c903 button.colab-df-convert');\n",
              "      buttonEl.style.display =\n",
              "        google.colab.kernel.accessAllowed ? 'block' : 'none';\n",
              "\n",
              "      async function convertToInteractive(key) {\n",
              "        const element = document.querySelector('#df-49318a9a-f393-4a62-b826-532d3018c903');\n",
              "        const dataTable =\n",
              "          await google.colab.kernel.invokeFunction('convertToInteractive',\n",
              "                                                    [key], {});\n",
              "        if (!dataTable) return;\n",
              "\n",
              "        const docLinkHtml = 'Like what you see? Visit the ' +\n",
              "          '<a target=\"_blank\" href=https://colab.research.google.com/notebooks/data_table.ipynb>data table notebook</a>'\n",
              "          + ' to learn more about interactive tables.';\n",
              "        element.innerHTML = '';\n",
              "        dataTable['output_type'] = 'display_data';\n",
              "        await google.colab.output.renderOutput(dataTable, element);\n",
              "        const docLink = document.createElement('div');\n",
              "        docLink.innerHTML = docLinkHtml;\n",
              "        element.appendChild(docLink);\n",
              "      }\n",
              "    </script>\n",
              "  </div>\n",
              "\n",
              "\n",
              "    <div id=\"df-16b58a37-9f97-4bb5-b0e3-5d71547cee89\">\n",
              "      <button class=\"colab-df-quickchart\" onclick=\"quickchart('df-16b58a37-9f97-4bb5-b0e3-5d71547cee89')\"\n",
              "                title=\"Suggest charts\"\n",
              "                style=\"display:none;\">\n",
              "\n",
              "<svg xmlns=\"http://www.w3.org/2000/svg\" height=\"24px\"viewBox=\"0 0 24 24\"\n",
              "     width=\"24px\">\n",
              "    <g>\n",
              "        <path d=\"M19 3H5c-1.1 0-2 .9-2 2v14c0 1.1.9 2 2 2h14c1.1 0 2-.9 2-2V5c0-1.1-.9-2-2-2zM9 17H7v-7h2v7zm4 0h-2V7h2v10zm4 0h-2v-4h2v4z\"/>\n",
              "    </g>\n",
              "</svg>\n",
              "      </button>\n",
              "\n",
              "<style>\n",
              "  .colab-df-quickchart {\n",
              "      --bg-color: #E8F0FE;\n",
              "      --fill-color: #1967D2;\n",
              "      --hover-bg-color: #E2EBFA;\n",
              "      --hover-fill-color: #174EA6;\n",
              "      --disabled-fill-color: #AAA;\n",
              "      --disabled-bg-color: #DDD;\n",
              "  }\n",
              "\n",
              "  [theme=dark] .colab-df-quickchart {\n",
              "      --bg-color: #3B4455;\n",
              "      --fill-color: #D2E3FC;\n",
              "      --hover-bg-color: #434B5C;\n",
              "      --hover-fill-color: #FFFFFF;\n",
              "      --disabled-bg-color: #3B4455;\n",
              "      --disabled-fill-color: #666;\n",
              "  }\n",
              "\n",
              "  .colab-df-quickchart {\n",
              "    background-color: var(--bg-color);\n",
              "    border: none;\n",
              "    border-radius: 50%;\n",
              "    cursor: pointer;\n",
              "    display: none;\n",
              "    fill: var(--fill-color);\n",
              "    height: 32px;\n",
              "    padding: 0;\n",
              "    width: 32px;\n",
              "  }\n",
              "\n",
              "  .colab-df-quickchart:hover {\n",
              "    background-color: var(--hover-bg-color);\n",
              "    box-shadow: 0 1px 2px rgba(60, 64, 67, 0.3), 0 1px 3px 1px rgba(60, 64, 67, 0.15);\n",
              "    fill: var(--button-hover-fill-color);\n",
              "  }\n",
              "\n",
              "  .colab-df-quickchart-complete:disabled,\n",
              "  .colab-df-quickchart-complete:disabled:hover {\n",
              "    background-color: var(--disabled-bg-color);\n",
              "    fill: var(--disabled-fill-color);\n",
              "    box-shadow: none;\n",
              "  }\n",
              "\n",
              "  .colab-df-spinner {\n",
              "    border: 2px solid var(--fill-color);\n",
              "    border-color: transparent;\n",
              "    border-bottom-color: var(--fill-color);\n",
              "    animation:\n",
              "      spin 1s steps(1) infinite;\n",
              "  }\n",
              "\n",
              "  @keyframes spin {\n",
              "    0% {\n",
              "      border-color: transparent;\n",
              "      border-bottom-color: var(--fill-color);\n",
              "      border-left-color: var(--fill-color);\n",
              "    }\n",
              "    20% {\n",
              "      border-color: transparent;\n",
              "      border-left-color: var(--fill-color);\n",
              "      border-top-color: var(--fill-color);\n",
              "    }\n",
              "    30% {\n",
              "      border-color: transparent;\n",
              "      border-left-color: var(--fill-color);\n",
              "      border-top-color: var(--fill-color);\n",
              "      border-right-color: var(--fill-color);\n",
              "    }\n",
              "    40% {\n",
              "      border-color: transparent;\n",
              "      border-right-color: var(--fill-color);\n",
              "      border-top-color: var(--fill-color);\n",
              "    }\n",
              "    60% {\n",
              "      border-color: transparent;\n",
              "      border-right-color: var(--fill-color);\n",
              "    }\n",
              "    80% {\n",
              "      border-color: transparent;\n",
              "      border-right-color: var(--fill-color);\n",
              "      border-bottom-color: var(--fill-color);\n",
              "    }\n",
              "    90% {\n",
              "      border-color: transparent;\n",
              "      border-bottom-color: var(--fill-color);\n",
              "    }\n",
              "  }\n",
              "</style>\n",
              "\n",
              "      <script>\n",
              "        async function quickchart(key) {\n",
              "          const quickchartButtonEl =\n",
              "            document.querySelector('#' + key + ' button');\n",
              "          quickchartButtonEl.disabled = true;  // To prevent multiple clicks.\n",
              "          quickchartButtonEl.classList.add('colab-df-spinner');\n",
              "          try {\n",
              "            const charts = await google.colab.kernel.invokeFunction(\n",
              "                'suggestCharts', [key], {});\n",
              "          } catch (error) {\n",
              "            console.error('Error during call to suggestCharts:', error);\n",
              "          }\n",
              "          quickchartButtonEl.classList.remove('colab-df-spinner');\n",
              "          quickchartButtonEl.classList.add('colab-df-quickchart-complete');\n",
              "        }\n",
              "        (() => {\n",
              "          let quickchartButtonEl =\n",
              "            document.querySelector('#df-16b58a37-9f97-4bb5-b0e3-5d71547cee89 button');\n",
              "          quickchartButtonEl.style.display =\n",
              "            google.colab.kernel.accessAllowed ? 'block' : 'none';\n",
              "        })();\n",
              "      </script>\n",
              "    </div>\n",
              "\n",
              "    </div>\n",
              "  </div>\n"
            ],
            "application/vnd.google.colaboratory.intrinsic+json": {
              "type": "dataframe",
              "variable_name": "df",
              "summary": "{\n  \"name\": \"df\",\n  \"rows\": 300,\n  \"fields\": [\n    {\n      \"column\": \"Vessel_Type\",\n      \"properties\": {\n        \"dtype\": \"category\",\n        \"num_unique_values\": 4,\n        \"samples\": [\n          \"Tanker\",\n          \"Offshore Support Vessel\",\n          \"Container Ship\"\n        ],\n        \"semantic_type\": \"\",\n        \"description\": \"\"\n      }\n    },\n    {\n      \"column\": \"Operating_Zone\",\n      \"properties\": {\n        \"dtype\": \"category\",\n        \"num_unique_values\": 5,\n        \"samples\": [\n          \"Indian Ocean\",\n          \"North Atlantic\",\n          \"South China Sea\"\n        ],\n        \"semantic_type\": \"\",\n        \"description\": \"\"\n      }\n    },\n    {\n      \"column\": \"Vessel_Age\",\n      \"properties\": {\n        \"dtype\": \"number\",\n        \"std\": 9,\n        \"min\": 5,\n        \"max\": 40,\n        \"num_unique_values\": 36,\n        \"samples\": [\n          34,\n          24,\n          5\n        ],\n        \"semantic_type\": \"\",\n        \"description\": \"\"\n      }\n    },\n    {\n      \"column\": \"Flag_State\",\n      \"properties\": {\n        \"dtype\": \"category\",\n        \"num_unique_values\": 5,\n        \"samples\": [\n          \"Greece\",\n          \"Panama\",\n          \"Liberia\"\n        ],\n        \"semantic_type\": \"\",\n        \"description\": \"\"\n      }\n    },\n    {\n      \"column\": \"Inspection_Status\",\n      \"properties\": {\n        \"dtype\": \"category\",\n        \"num_unique_values\": 3,\n        \"samples\": [\n          \"Overdue\",\n          \"Up-to-date\",\n          \"Delayed\"\n        ],\n        \"semantic_type\": \"\",\n        \"description\": \"\"\n      }\n    },\n    {\n      \"column\": \"Weather_Risk\",\n      \"properties\": {\n        \"dtype\": \"category\",\n        \"num_unique_values\": 3,\n        \"samples\": [\n          \"Moderate\",\n          \"High\",\n          \"Low\"\n        ],\n        \"semantic_type\": \"\",\n        \"description\": \"\"\n      }\n    },\n    {\n      \"column\": \"Piracy_Risk\",\n      \"properties\": {\n        \"dtype\": \"category\",\n        \"num_unique_values\": 3,\n        \"samples\": [\n          \"Moderate\",\n          \"High\",\n          \"Low\"\n        ],\n        \"semantic_type\": \"\",\n        \"description\": \"\"\n      }\n    },\n    {\n      \"column\": \"Claim_Occurred\",\n      \"properties\": {\n        \"dtype\": \"number\",\n        \"std\": 0,\n        \"min\": 0,\n        \"max\": 1,\n        \"num_unique_values\": 2,\n        \"samples\": [\n          1,\n          0\n        ],\n        \"semantic_type\": \"\",\n        \"description\": \"\"\n      }\n    },\n    {\n      \"column\": \"Claim_Amount\",\n      \"properties\": {\n        \"dtype\": \"number\",\n        \"std\": 962801,\n        \"min\": 0,\n        \"max\": 4966271,\n        \"num_unique_values\": 71,\n        \"samples\": [\n          1416997,\n          0\n        ],\n        \"semantic_type\": \"\",\n        \"description\": \"\"\n      }\n    },\n    {\n      \"column\": \"Premium\",\n      \"properties\": {\n        \"dtype\": \"number\",\n        \"std\": 28518,\n        \"min\": 103500,\n        \"max\": 200000,\n        \"num_unique_values\": 124,\n        \"samples\": [\n          168000,\n          161500\n        ],\n        \"semantic_type\": \"\",\n        \"description\": \"\"\n      }\n    },\n    {\n      \"column\": \"Sum_Insured\",\n      \"properties\": {\n        \"dtype\": \"number\",\n        \"std\": 4019749,\n        \"min\": 6150000,\n        \"max\": 19750000,\n        \"num_unique_values\": 124,\n        \"samples\": [\n          13200000,\n          13850000\n        ],\n        \"semantic_type\": \"\",\n        \"description\": \"\"\n      }\n    },\n    {\n      \"column\": \"Daily_Return\",\n      \"properties\": {\n        \"dtype\": \"number\",\n        \"std\": 0.0009841936889703915,\n        \"min\": -0.002741267340069,\n        \"max\": 0.0043527314906547,\n        \"num_unique_values\": 300,\n        \"samples\": [\n          0.0015538020520349,\n          0.0021324113039316\n        ],\n        \"semantic_type\": \"\",\n        \"description\": \"\"\n      }\n    },\n    {\n      \"column\": \"Initial_Investment\",\n      \"properties\": {\n        \"dtype\": \"number\",\n        \"std\": 17110.98371062139,\n        \"min\": 62100.0,\n        \"max\": 120000.0,\n        \"num_unique_values\": 124,\n        \"samples\": [\n          100800.0,\n          96900.0\n        ],\n        \"semantic_type\": \"\",\n        \"description\": \"\"\n      }\n    },\n    {\n      \"column\": \"Final_Value\",\n      \"properties\": {\n        \"dtype\": \"number\",\n        \"std\": 20527.963438169794,\n        \"min\": 58078.93448916586,\n        \"max\": 167639.7126944092,\n        \"num_unique_values\": 300,\n        \"samples\": [\n          93147.36493374492,\n          98843.91074364708\n        ],\n        \"semantic_type\": \"\",\n        \"description\": \"\"\n      }\n    }\n  ]\n}"
            }
          },
          "metadata": {},
          "execution_count": 2
        }
      ],
      "source": [
        "import pandas as pd\n",
        "\n",
        "url = \"https://raw.githubusercontent.com/anshupandey/MSA-analytics/refs/heads/main/datasets/Ocean_Hull_Insurance_datasetv2.csv\"\n",
        "# Load the dataset\n",
        "df = pd.read_csv(url)\n",
        "df.drop(columns=[\"Vessel_ID\"], inplace=True)\n",
        "df.head()"
      ]
    },
    {
      "cell_type": "markdown",
      "id": "e91527e0",
      "metadata": {
        "id": "e91527e0"
      },
      "source": [
        "## 🧼 Step 2: Define Features and Target, Train-Test Split"
      ]
    },
    {
      "cell_type": "code",
      "execution_count": 3,
      "id": "fefd380e",
      "metadata": {
        "id": "fefd380e",
        "colab": {
          "base_uri": "https://localhost:8080/"
        },
        "outputId": "a2a91a41-a735-481e-b852-309fbb477f43"
      },
      "outputs": [
        {
          "output_type": "stream",
          "name": "stdout",
          "text": [
            "(240, 9) (60, 9) (240,) (60,)\n"
          ]
        }
      ],
      "source": [
        "from sklearn.model_selection import train_test_split\n",
        "\n",
        "# Define features and target\n",
        "X = df.drop(columns=[\"Claim_Occurred\", \"Claim_Amount\",\"Daily_Return\",'Initial_Investment','Final_Value'])\n",
        "y = df[\"Claim_Occurred\"]\n",
        "\n",
        "# Train-test split\n",
        "X_train, X_test, y_train, y_test = train_test_split(X, y, test_size=0.2, random_state=42, stratify=y)\n",
        "\n",
        "print(X_train.shape, X_test.shape, y_train.shape, y_test.shape)"
      ]
    },
    {
      "cell_type": "markdown",
      "id": "fbcc3c45",
      "metadata": {
        "id": "fbcc3c45"
      },
      "source": [
        "## 🔁 Step 3: Build a Preprocessing and Modeling Pipeline"
      ]
    },
    {
      "cell_type": "code",
      "execution_count": 4,
      "id": "fcfd46ac",
      "metadata": {
        "id": "fcfd46ac"
      },
      "outputs": [],
      "source": [
        "from sklearn.preprocessing import StandardScaler, OneHotEncoder\n",
        "from sklearn.compose import ColumnTransformer\n",
        "from sklearn.pipeline import Pipeline\n",
        "from sklearn.ensemble import RandomForestClassifier\n",
        "\n",
        "# Define column types\n",
        "categorical_features = X.select_dtypes(include=\"object\").columns.tolist()\n",
        "numeric_features = X.select_dtypes(include=[\"int64\", \"float64\"]).columns.tolist()\n",
        "\n",
        "# Preprocessing\n",
        "preprocessor = ColumnTransformer([\n",
        "    (\"num\", StandardScaler(), numeric_features),\n",
        "    (\"cat\", OneHotEncoder(handle_unknown='ignore'), categorical_features)\n",
        "])\n",
        "\n",
        "# Modeling pipeline\n",
        "pipeline = Pipeline([\n",
        "    (\"preprocessor\", preprocessor),\n",
        "    (\"classifier\", RandomForestClassifier(n_estimators=100, random_state=42))\n",
        "])"
      ]
    },
    {
      "cell_type": "markdown",
      "id": "527b1f94",
      "metadata": {
        "id": "527b1f94"
      },
      "source": [
        "## 📈 Step 4: Train Model and Log Metrics with MLflow"
      ]
    },
    {
      "cell_type": "code",
      "source": [
        "import mlflow\n",
        "mlflow.set_tracking_uri(\"http://48.217.49.33:5000\")\n",
        "mlflow.set_experiment(\"ClaimPrediction\")\n",
        "mlflow.set_tag(\"model_type\", \"RandomForestClassifier\")\n",
        "mlflow.set_tag(\"user\",\"Anshu\")"
      ],
      "metadata": {
        "id": "rN7Ml7PPMqx6"
      },
      "id": "rN7Ml7PPMqx6",
      "execution_count": 6,
      "outputs": []
    },
    {
      "cell_type": "markdown",
      "source": [
        "#### F1 Score, Accuracy, Precision, Recall, AUC-ROC"
      ],
      "metadata": {
        "id": "XBcXPtxdNTut"
      },
      "id": "XBcXPtxdNTut"
    },
    {
      "cell_type": "markdown",
      "source": [
        "\n",
        "\n",
        "## 📊 Understanding Key Model Evaluation Metrics\n",
        "\n",
        "When building classification models, it's crucial to evaluate them using appropriate metrics. Below are the core metrics used in **Lab 1**:\n",
        "\n",
        "---\n",
        "\n",
        "### 🔁 **Accuracy**\n",
        "\n",
        "**Definition**:\n",
        "Accuracy is the ratio of correctly predicted observations to the total observations.\n",
        "\n",
        "$$\n",
        "\\text{Accuracy} = \\frac{TP + TN}{TP + TN + FP + FN}\n",
        "$$\n",
        "\n",
        "**When to use**:\n",
        "\n",
        "* Works well when classes are balanced.\n",
        "\n",
        "**Limitation**:\n",
        "\n",
        "* Misleading when dealing with imbalanced classes.\n",
        "\n",
        "> Example: In a fraud detection use case with 95% non-fraud and 5% fraud, a model predicting all as non-fraud gets 95% accuracy — but it's useless.\n",
        "\n",
        "---\n",
        "\n",
        "### 🎯 **Precision**\n",
        "\n",
        "**Definition**:\n",
        "Precision is the ratio of correctly predicted positive observations to the total predicted positives.\n",
        "\n",
        "$$\n",
        "\\text{Precision} = \\frac{TP}{TP + FP}\n",
        "$$\n",
        "\n",
        "**When to use**:\n",
        "\n",
        "* When false positives are costly.\n",
        "* Example: Approving a high-risk claim.\n",
        "\n",
        "---\n",
        "\n",
        "### 🛡️ **Recall (Sensitivity or TPR)**\n",
        "\n",
        "**Definition**:\n",
        "Recall is the ratio of correctly predicted positive observations to all actual positives.\n",
        "\n",
        "$$\n",
        "\\text{Recall} = \\frac{TP}{TP + FN}\n",
        "$$\n",
        "\n",
        "**When to use**:\n",
        "\n",
        "* When missing positive cases is more expensive.\n",
        "* Example: Missing an actual fraud case.\n",
        "\n",
        "---\n",
        "\n",
        "### ⚖️ **F1 Score**\n",
        "\n",
        "**Definition**:\n",
        "F1 Score is the weighted harmonic mean of Precision and Recall.\n",
        "\n",
        "$$\n",
        "\\text{F1 Score} = 2 \\times \\frac{\\text{Precision} \\times \\text{Recall}}{\\text{Precision} + \\text{Recall}}\n",
        "$$\n",
        "\n",
        "**When to use**:\n",
        "\n",
        "* When you need a balance between precision and recall.\n",
        "* Especially useful for **imbalanced classification** problems like insurance claims, fraud detection, etc.\n",
        "\n",
        "---\n",
        "\n"
      ],
      "metadata": {
        "id": "90N-Gv2byelB"
      },
      "id": "90N-Gv2byelB"
    },
    {
      "cell_type": "code",
      "execution_count": 8,
      "id": "6de57123",
      "metadata": {
        "colab": {
          "base_uri": "https://localhost:8080/"
        },
        "id": "6de57123",
        "outputId": "3c2f8f08-0737-4e6d-c273-5819c1eba066"
      },
      "outputs": [
        {
          "output_type": "stream",
          "name": "stdout",
          "text": [
            "🏃 View run luminous-robin-885 at: http://48.217.49.33:5000/#/experiments/199491697363636286/runs/b771940ad1954c8e8517aeb4ec18dd8d\n",
            "🧪 View experiment at: http://48.217.49.33:5000/#/experiments/199491697363636286\n"
          ]
        },
        {
          "output_type": "stream",
          "name": "stderr",
          "text": [
            "2025/06/26 08:23:30 WARNING mlflow.models.model: `artifact_path` is deprecated. Please use `name` instead.\n",
            "\u001b[31m2025/06/26 08:23:37 WARNING mlflow.models.model: Model logged without a signature and input example. Please set `input_example` parameter when logging the model to auto infer the model signature.\u001b[0m\n"
          ]
        },
        {
          "output_type": "stream",
          "name": "stdout",
          "text": [
            "MLflow logging complete.\n",
            "🏃 View run grandiose-tern-318 at: http://48.217.49.33:5000/#/experiments/199491697363636286/runs/01d1de38491d4a709bc7f40bff103159\n",
            "🧪 View experiment at: http://48.217.49.33:5000/#/experiments/199491697363636286\n"
          ]
        }
      ],
      "source": [
        "import mlflow.sklearn\n",
        "from sklearn.metrics import classification_report, roc_auc_score\n",
        "\n",
        "mlflow.end_run()\n",
        "with mlflow.start_run():\n",
        "    # Fit the model\n",
        "    pipeline.fit(X_train, y_train) # train the model using train data\n",
        "\n",
        "    # Predict and evaluate\n",
        "    y_pred = pipeline.predict(X_test)\n",
        "    y_proba = pipeline.predict_proba(X_test)[:, 1]\n",
        "\n",
        "    # Calculate metrics\n",
        "    auc = roc_auc_score(y_test, y_proba)\n",
        "    report = classification_report(y_test, y_pred, output_dict=True)\n",
        "\n",
        "    # Log parameters and metrics\n",
        "    mlflow.log_param(\"model_type\", \"RandomForestClassifier\")\n",
        "    mlflow.log_metric(\"roc_auc\", auc)\n",
        "    mlflow.log_metric(\"precision\", report['1']['precision'])\n",
        "    mlflow.log_metric(\"recall\", report['1']['recall'])\n",
        "    mlflow.log_metric(\"f1_score\", report['1']['f1-score'])\n",
        "\n",
        "    # Log model pipeline\n",
        "    mlflow.sklearn.log_model(pipeline, \"rf_pipeline\")\n",
        "\n",
        "    print(\"MLflow logging complete.\")"
      ]
    },
    {
      "cell_type": "markdown",
      "id": "0b74279d",
      "metadata": {
        "id": "0b74279d"
      },
      "source": [
        "## ✅ Results\n",
        "You should now see the model and metrics logged in your MLflow dashboard.\n",
        "\n",
        "To run the MLflow UI:\n",
        "```bash\n",
        "mlflow ui\n",
        "```\n",
        "Then open `http://localhost:5000` in your browser."
      ]
    },
    {
      "cell_type": "markdown",
      "source": [
        "## ✅ Code Snippets for Extended Lab 1 Functionality\n",
        "\n",
        "---\n",
        "\n",
        "### 🔁 MLflow Autologging"
      ],
      "metadata": {
        "id": "AfkcpmP5yoQC"
      },
      "id": "AfkcpmP5yoQC"
    },
    {
      "cell_type": "code",
      "source": [
        "import mlflow.sklearn\n",
        "\n",
        "mlflow.sklearn.autolog()  # Enables automatic logging of parameters, metrics, artifacts"
      ],
      "metadata": {
        "id": "VYHesI0jyds2"
      },
      "id": "VYHesI0jyds2",
      "execution_count": 9,
      "outputs": []
    },
    {
      "cell_type": "markdown",
      "source": [
        "\n",
        "This will automatically log:\n",
        "\n",
        "* Parameters (like `n_estimators`, `max_depth`)\n",
        "* Metrics (like accuracy, precision, recall)\n",
        "* Model artifacts (like sklearn model object)\n",
        "* Training duration and environment details\n",
        "\n",
        "---\n"
      ],
      "metadata": {
        "id": "F6YSGboyywLD"
      },
      "id": "F6YSGboyywLD"
    },
    {
      "cell_type": "markdown",
      "source": [
        "### 📦 Model Training, Evaluation, and Logging\n"
      ],
      "metadata": {
        "id": "EjZMOjXVyxyf"
      },
      "id": "EjZMOjXVyxyf"
    },
    {
      "cell_type": "code",
      "source": [
        "import mlflow\n",
        "from mlflow import evaluate\n",
        "from mlflow.models.signature import infer_signature\n",
        "from sklearn.metrics import classification_report, confusion_matrix, roc_auc_score\n",
        "import shap, mlflow.shap\n",
        "\n",
        "\n",
        "mlflow.sklearn.autolog()\n",
        "with mlflow.start_run() as run:\n",
        "    pipeline.fit(X_train, y_train)\n"
      ],
      "metadata": {
        "colab": {
          "base_uri": "https://localhost:8080/"
        },
        "id": "A-hKnub5WEZX",
        "outputId": "a76f3d56-01bb-44d3-e1fb-f925e87b5e88"
      },
      "id": "A-hKnub5WEZX",
      "execution_count": 10,
      "outputs": [
        {
          "output_type": "stream",
          "name": "stderr",
          "text": [
            "2025/06/26 08:26:45 WARNING mlflow.utils.autologging_utils: MLflow autologging encountered a warning: \"/usr/local/lib/python3.11/dist-packages/mlflow/types/utils.py:452: UserWarning: Hint: Inferred schema contains integer column(s). Integer columns in Python cannot represent missing values. If your input data contains missing values at inference time, it will be encoded as floats and will cause a schema enforcement error. The best way to avoid this problem is to infer the model schema based on a realistic data sample (training dataset) that includes missing values. Alternatively, you can declare integer columns as doubles (float64) whenever these columns may have missing values. See `Handling Integers With Missing Values <https://www.mlflow.org/docs/latest/models.html#handling-integers-with-missing-values>`_ for more details.\"\n",
            "2025/06/26 08:26:46 WARNING mlflow.utils.autologging_utils: MLflow autologging encountered a warning: \"/usr/local/lib/python3.11/dist-packages/mlflow/types/utils.py:452: UserWarning: Hint: Inferred schema contains integer column(s). Integer columns in Python cannot represent missing values. If your input data contains missing values at inference time, it will be encoded as floats and will cause a schema enforcement error. The best way to avoid this problem is to infer the model schema based on a realistic data sample (training dataset) that includes missing values. Alternatively, you can declare integer columns as doubles (float64) whenever these columns may have missing values. See `Handling Integers With Missing Values <https://www.mlflow.org/docs/latest/models.html#handling-integers-with-missing-values>`_ for more details.\"\n"
          ]
        },
        {
          "output_type": "stream",
          "name": "stdout",
          "text": [
            "🏃 View run able-sponge-54 at: http://48.217.49.33:5000/#/experiments/199491697363636286/runs/854c048a2fc441ed9a938cabed80ccfd\n",
            "🧪 View experiment at: http://48.217.49.33:5000/#/experiments/199491697363636286\n"
          ]
        }
      ]
    },
    {
      "cell_type": "code",
      "source": [
        "\n",
        "mlflow.sklearn.autolog()\n",
        "with mlflow.start_run() as run:\n",
        "    pipeline.fit(X_train, y_train)\n",
        "    y_pred = pipeline.predict(X_test)\n",
        "    y_proba = pipeline.predict_proba(X_test)[:, 1]\n",
        "\n",
        "    report = classification_report(y_test, y_pred, output_dict=True)\n",
        "    auc_score = roc_auc_score(y_test, y_proba)\n",
        "\n",
        "\n",
        "     # Infer the model signature\n",
        "    signature = infer_signature(X_train, pipeline.predict(X_train))\n",
        "\n",
        "    # Get the model URI\n",
        "    model_uri = mlflow.get_artifact_uri(\"model\")\n",
        "\n",
        "    # Prepare evaluation data\n",
        "    eval_data = X_test.copy()\n",
        "    eval_data[\"Claim_Occurred\"] = y_test.values\n",
        "\n",
        "    # Evaluate the model\n",
        "    model_info = mlflow.sklearn.log_model(pipeline,\"rf_model\",signature=signature)\n",
        "\n",
        "    model_uri = model_info.model_uri\n",
        "    evalution_config = {\"log_model_explainability\":True, \"metric_prefix\":\"test_\",}\n",
        "\n",
        "    result = mlflow.evaluate(model_uri,eval_data,targets='Claim_Occurred',\n",
        "                             model_type='classifier',\n",
        "                             evaluator_config=evalution_config)\n",
        "\n",
        "\n",
        "\n",
        "\n",
        "\n",
        "    # log a scoring file\n",
        "    eval_data['prediction'] = pipeline.predict(eval_data.drop(columns=['Claim_Occurred']))\n",
        "    eval_data.to_csv(\"eval_data.csv\")\n",
        "    mlflow.log_artifact(\"eval_data.csv\",artifact_path=\"eval_data\")\n",
        "\n",
        "    # Access evaluation metrics\n",
        "    print(\"Evaluation Metrics:\")\n",
        "    for metric_name, metric_value in result.metrics.items():\n",
        "        print(f\"{metric_name}: {metric_value}\")\n",
        "\n",
        "mlflow.end_run()"
      ],
      "metadata": {
        "colab": {
          "base_uri": "https://localhost:8080/",
          "height": 672,
          "referenced_widgets": [
            "1b453fbf1b254ca28c2f9b9811aac3f5",
            "5e06086785d9457d902bb0d65dc7523a",
            "7564afc26df24cd4b2a8fb0380685c82",
            "176819189d9e4a33af85b76d99fa9aa9",
            "4425b8718ff748f0a72f72702fe38b8f",
            "502405620b734e8199c5a522a2b7a421",
            "6fe2414ffcff459f9067b9604c8eb573",
            "32d5e2a9356b4165bf9e9f6f8d6a7ef2",
            "5cd703bf7db742ce9ddcf37878bbd027",
            "c3643d32e1bc41479817abdfe79c4c86",
            "13bec8a36ffb4845abf1446c34466f7c"
          ]
        },
        "id": "6y0PcXhAyzhv",
        "outputId": "03b62b2b-e1af-4cd0-ba4a-0378329226f7"
      },
      "id": "6y0PcXhAyzhv",
      "execution_count": 11,
      "outputs": [
        {
          "output_type": "stream",
          "name": "stderr",
          "text": [
            "2025/06/26 08:29:13 WARNING mlflow.utils.autologging_utils: MLflow autologging encountered a warning: \"/usr/local/lib/python3.11/dist-packages/mlflow/types/utils.py:452: UserWarning: Hint: Inferred schema contains integer column(s). Integer columns in Python cannot represent missing values. If your input data contains missing values at inference time, it will be encoded as floats and will cause a schema enforcement error. The best way to avoid this problem is to infer the model schema based on a realistic data sample (training dataset) that includes missing values. Alternatively, you can declare integer columns as doubles (float64) whenever these columns may have missing values. See `Handling Integers With Missing Values <https://www.mlflow.org/docs/latest/models.html#handling-integers-with-missing-values>`_ for more details.\"\n",
            "2025/06/26 08:29:13 WARNING mlflow.utils.autologging_utils: MLflow autologging encountered a warning: \"/usr/local/lib/python3.11/dist-packages/mlflow/types/utils.py:452: UserWarning: Hint: Inferred schema contains integer column(s). Integer columns in Python cannot represent missing values. If your input data contains missing values at inference time, it will be encoded as floats and will cause a schema enforcement error. The best way to avoid this problem is to infer the model schema based on a realistic data sample (training dataset) that includes missing values. Alternatively, you can declare integer columns as doubles (float64) whenever these columns may have missing values. See `Handling Integers With Missing Values <https://www.mlflow.org/docs/latest/models.html#handling-integers-with-missing-values>`_ for more details.\"\n",
            "2025/06/26 08:29:20 WARNING mlflow.utils.autologging_utils: MLflow autologging encountered a warning: \"/usr/local/lib/python3.11/dist-packages/mlflow/types/utils.py:452: UserWarning: Hint: Inferred schema contains integer column(s). Integer columns in Python cannot represent missing values. If your input data contains missing values at inference time, it will be encoded as floats and will cause a schema enforcement error. The best way to avoid this problem is to infer the model schema based on a realistic data sample (training dataset) that includes missing values. Alternatively, you can declare integer columns as doubles (float64) whenever these columns may have missing values. See `Handling Integers With Missing Values <https://www.mlflow.org/docs/latest/models.html#handling-integers-with-missing-values>`_ for more details.\"\n",
            "2025/06/26 08:29:21 WARNING mlflow.utils.autologging_utils: MLflow autologging encountered a warning: \"/usr/local/lib/python3.11/dist-packages/mlflow/types/utils.py:452: UserWarning: Hint: Inferred schema contains integer column(s). Integer columns in Python cannot represent missing values. If your input data contains missing values at inference time, it will be encoded as floats and will cause a schema enforcement error. The best way to avoid this problem is to infer the model schema based on a realistic data sample (training dataset) that includes missing values. Alternatively, you can declare integer columns as doubles (float64) whenever these columns may have missing values. See `Handling Integers With Missing Values <https://www.mlflow.org/docs/latest/models.html#handling-integers-with-missing-values>`_ for more details.\"\n",
            "2025/06/26 08:29:21 WARNING mlflow.utils.autologging_utils: MLflow autologging encountered a warning: \"/usr/local/lib/python3.11/dist-packages/mlflow/types/utils.py:452: UserWarning: Hint: Inferred schema contains integer column(s). Integer columns in Python cannot represent missing values. If your input data contains missing values at inference time, it will be encoded as floats and will cause a schema enforcement error. The best way to avoid this problem is to infer the model schema based on a realistic data sample (training dataset) that includes missing values. Alternatively, you can declare integer columns as doubles (float64) whenever these columns may have missing values. See `Handling Integers With Missing Values <https://www.mlflow.org/docs/latest/models.html#handling-integers-with-missing-values>`_ for more details.\"\n",
            "2025/06/26 08:29:21 WARNING mlflow.models.model: `artifact_path` is deprecated. Please use `name` instead.\n"
          ]
        },
        {
          "output_type": "display_data",
          "data": {
            "text/plain": [
              "Downloading artifacts:   0%|          | 0/5 [00:00<?, ?it/s]"
            ],
            "application/vnd.jupyter.widget-view+json": {
              "version_major": 2,
              "version_minor": 0,
              "model_id": "1b453fbf1b254ca28c2f9b9811aac3f5"
            }
          },
          "metadata": {}
        },
        {
          "output_type": "stream",
          "name": "stderr",
          "text": [
            "2025/06/26 08:29:29 INFO mlflow.tracking.fluent: Active model is set to the logged model with ID: m-bbe7a5c95580482480bf35a66ccc2f7b\n",
            "2025/06/26 08:29:29 INFO mlflow.tracking.fluent: Use `mlflow.set_active_model` to set the active model to a different one if needed.\n",
            "/usr/local/lib/python3.11/dist-packages/mlflow/types/utils.py:452: UserWarning: Hint: Inferred schema contains integer column(s). Integer columns in Python cannot represent missing values. If your input data contains missing values at inference time, it will be encoded as floats and will cause a schema enforcement error. The best way to avoid this problem is to infer the model schema based on a realistic data sample (training dataset) that includes missing values. Alternatively, you can declare integer columns as doubles (float64) whenever these columns may have missing values. See `Handling Integers With Missing Values <https://www.mlflow.org/docs/latest/models.html#handling-integers-with-missing-values>`_ for more details.\n",
            "  warnings.warn(\n",
            "2025/06/26 08:29:30 INFO mlflow.models.evaluation.utils.trace: Auto tracing is temporarily enabled during the model evaluation for computing some metrics and debugging. To disable tracing, call `mlflow.autolog(disable=True)`.\n",
            "2025/06/26 08:29:30 WARNING mlflow.models.evaluation.evaluators.classifier: According to the evaluation dataset label values, the model type looks like None, but you specified model type 'classifier'. Please verify that you set the `model_type` and `dataset` arguments correctly.\n",
            "2025/06/26 08:29:30 INFO mlflow.models.evaluation.evaluators.classifier: The evaluation dataset is inferred as binary dataset, positive label is 1, negative label is 0.\n",
            "2025/06/26 08:29:30 INFO mlflow.models.evaluation.default_evaluator: Testing metrics on first row...\n",
            "2025/06/26 08:29:35 WARNING mlflow.models.evaluation.evaluators.shap: Skip logging model explainability insights because the shap explainer None requires all feature values to be numeric, and each feature column must only contain scalar values.\n",
            "2025/06/26 08:29:35 WARNING mlflow.utils.autologging_utils: MLflow autologging encountered a warning: \"/usr/local/lib/python3.11/dist-packages/mlflow/types/utils.py:452: UserWarning: Hint: Inferred schema contains integer column(s). Integer columns in Python cannot represent missing values. If your input data contains missing values at inference time, it will be encoded as floats and will cause a schema enforcement error. The best way to avoid this problem is to infer the model schema based on a realistic data sample (training dataset) that includes missing values. Alternatively, you can declare integer columns as doubles (float64) whenever these columns may have missing values. See `Handling Integers With Missing Values <https://www.mlflow.org/docs/latest/models.html#handling-integers-with-missing-values>`_ for more details.\"\n"
          ]
        },
        {
          "output_type": "stream",
          "name": "stdout",
          "text": [
            "Evaluation Metrics:\n",
            "test_score: 0.95\n",
            "test_true_negatives: 45\n",
            "test_false_positives: 1\n",
            "test_false_negatives: 2\n",
            "test_true_positives: 12\n",
            "test_example_count: 60\n",
            "test_accuracy_score: 0.95\n",
            "test_recall_score: 0.8571428571428571\n",
            "test_precision_score: 0.9230769230769231\n",
            "test_f1_score: 0.8888888888888888\n",
            "test_log_loss: 0.2446810389335979\n",
            "test_roc_auc: 0.8990683229813665\n",
            "test_precision_recall_auc: 0.8777419948472579\n",
            "🏃 View run shivering-newt-466 at: http://48.217.49.33:5000/#/experiments/199491697363636286/runs/ef76ec151f2e4d19bb8351ff0a14d07d\n",
            "🧪 View experiment at: http://48.217.49.33:5000/#/experiments/199491697363636286\n"
          ]
        },
        {
          "output_type": "display_data",
          "data": {
            "text/plain": [
              "<Figure size 1050x700 with 0 Axes>"
            ]
          },
          "metadata": {}
        }
      ]
    },
    {
      "cell_type": "code",
      "source": [],
      "metadata": {
        "id": "ERZ3o23L8nc0"
      },
      "id": "ERZ3o23L8nc0",
      "execution_count": null,
      "outputs": []
    },
    {
      "cell_type": "markdown",
      "source": [
        "\n",
        "### 📁 Logging Artifacts (e.g., classification report, confusion matrix)\n"
      ],
      "metadata": {
        "id": "YdVSjAMGy2o-"
      },
      "id": "YdVSjAMGy2o-"
    },
    {
      "cell_type": "code",
      "source": [
        "import matplotlib.pyplot as plt\n",
        "import seaborn as sns\n",
        "import numpy as np\n",
        "import os\n",
        "\n",
        "# Save confusion matrix as an artifact\n",
        "cm = confusion_matrix(y_test, y_pred)\n",
        "plt.figure(figsize=(6, 4))\n",
        "sns.heatmap(cm, annot=True, fmt='d', cmap='Blues')\n",
        "plt.xlabel(\"Predicted\")\n",
        "plt.ylabel(\"Actual\")\n",
        "plt.title(\"Confusion Matrix\")\n",
        "plt.tight_layout()\n",
        "\n",
        "artifact_path = \"outputs\"\n",
        "os.makedirs(artifact_path, exist_ok=True)\n",
        "plt.savefig(f\"{artifact_path}/confusion_matrix.png\")\n",
        "\n",
        "mlflow.log_artifact(f\"{artifact_path}/confusion_matrix.png\")"
      ],
      "metadata": {
        "colab": {
          "base_uri": "https://localhost:8080/",
          "height": 407
        },
        "id": "hLLJsQG5y4N7",
        "outputId": "bf6600b4-4b74-4ce3-a9f5-306c84db80f7"
      },
      "id": "hLLJsQG5y4N7",
      "execution_count": null,
      "outputs": [
        {
          "output_type": "display_data",
          "data": {
            "text/plain": [
              "<Figure size 600x400 with 2 Axes>"
            ],
            "image/png": "[encoded data removed]"
          },
          "metadata": {}
        }
      ]
    },
    {
      "cell_type": "markdown",
      "source": [
        "---\n",
        "\n",
        "### 📝 Log and Register the Model\n"
      ],
      "metadata": {
        "id": "2kODlouuy4ih"
      },
      "id": "2kODlouuy4ih"
    },
    {
      "cell_type": "code",
      "source": [
        "# Log the model explicitly (in addition to autologging)\n",
        "mlflow.sklearn.log_model(pipeline, name=\"rf_pipeline\")\n",
        "\n",
        "# Register the model\n",
        "result = mlflow.register_model(\n",
        "    model_uri=f\"runs:/{run.info.run_id}/rf_pipeline\",\n",
        "    name=\"ClaimPredictionModel\"\n",
        ")\n",
        "\n",
        "print(f\"Model registered as version: {result.version}\")"
      ],
      "metadata": {
        "colab": {
          "base_uri": "https://localhost:8080/"
        },
        "id": "-zO7shrGy5HE",
        "outputId": "e18bb39c-880c-4ca5-eefc-c2ea5535d12e"
      },
      "id": "-zO7shrGy5HE",
      "execution_count": null,
      "outputs": [
        {
          "output_type": "stream",
          "name": "stderr",
          "text": [
            "\u001b[31m2025/06/26 06:32:20 WARNING mlflow.models.model: Model logged without a signature and input example. Please set `input_example` parameter when logging the model to auto infer the model signature.\u001b[0m\n",
            "Registered model 'ClaimPredictionModel' already exists. Creating a new version of this model...\n",
            "2025/06/26 06:32:20 WARNING mlflow.tracking._model_registry.fluent: Run with id 264dbac039ec4d81b8cc1aab97f1d684 has no artifacts at artifact path 'rf_pipeline', registering model based on models:/m-0e5d8c677b9b4bab85c6294c3a0a67a2 instead\n"
          ]
        },
        {
          "output_type": "stream",
          "name": "stdout",
          "text": [
            "Model registered as version: 1\n"
          ]
        },
        {
          "output_type": "stream",
          "name": "stderr",
          "text": [
            "Created version '1' of model 'ClaimPredictionModel'.\n"
          ]
        }
      ]
    },
    {
      "cell_type": "markdown",
      "source": [],
      "metadata": {
        "id": "Vsvo4CvXy5bU"
      },
      "id": "Vsvo4CvXy5bU"
    },
    {
      "cell_type": "markdown",
      "source": [
        "\n",
        "\n",
        "### Thank You !!"
      ],
      "metadata": {
        "id": "GCDckfsTymC4"
      },
      "id": "GCDckfsTymC4"
    },
    {
      "cell_type": "code",
      "source": [],
      "metadata": {
        "id": "cXFqp3MbzFTo"
      },
      "id": "cXFqp3MbzFTo",
      "execution_count": null,
      "outputs": []
    }
  ],
  "metadata": {
    "colab": {
      "provenance": [],
      "include_colab_link": true
    },
    "language_info": {
      "name": "python"
    },
    "kernelspec": {
      "name": "python3",
      "display_name": "Python 3"
    },
    "widgets": {
      "application/vnd.jupyter.widget-state+json": {
        "1b453fbf1b254ca28c2f9b9811aac3f5": {
          "model_module": "@jupyter-widgets/controls",
          "model_name": "HBoxModel",
          "model_module_version": "1.5.0",
          "state": {
            "_dom_classes": [],
            "_model_module": "@jupyter-widgets/controls",
            "_model_module_version": "1.5.0",
            "_model_name": "HBoxModel",
            "_view_count": null,
            "_view_module": "@jupyter-widgets/controls",
            "_view_module_version": "1.5.0",
            "_view_name": "HBoxView",
            "box_style": "",
            "children": [
              "IPY_MODEL_5e06086785d9457d902bb0d65dc7523a",
              "IPY_MODEL_7564afc26df24cd4b2a8fb0380685c82",
              "IPY_MODEL_176819189d9e4a33af85b76d99fa9aa9"
            ],
            "layout": "IPY_MODEL_4425b8718ff748f0a72f72702fe38b8f"
          }
        },
        "5e06086785d9457d902bb0d65dc7523a": {
          "model_module": "@jupyter-widgets/controls",
          "model_name": "HTMLModel",
          "model_module_version": "1.5.0",
          "state": {
            "_dom_classes": [],
            "_model_module": "@jupyter-widgets/controls",
            "_model_module_version": "1.5.0",
            "_model_name": "HTMLModel",
            "_view_count": null,
            "_view_module": "@jupyter-widgets/controls",
            "_view_module_version": "1.5.0",
            "_view_name": "HTMLView",
            "description": "",
            "description_tooltip": null,
            "layout": "IPY_MODEL_502405620b734e8199c5a522a2b7a421",
            "placeholder": "​",
            "style": "IPY_MODEL_6fe2414ffcff459f9067b9604c8eb573",
            "value": "Downloading artifacts: 100%"
          }
        },
        "7564afc26df24cd4b2a8fb0380685c82": {
          "model_module": "@jupyter-widgets/controls",
          "model_name": "FloatProgressModel",
          "model_module_version": "1.5.0",
          "state": {
            "_dom_classes": [],
            "_model_module": "@jupyter-widgets/controls",
            "_model_module_version": "1.5.0",
            "_model_name": "FloatProgressModel",
            "_view_count": null,
            "_view_module": "@jupyter-widgets/controls",
            "_view_module_version": "1.5.0",
            "_view_name": "ProgressView",
            "bar_style": "success",
            "description": "",
            "description_tooltip": null,
            "layout": "IPY_MODEL_32d5e2a9356b4165bf9e9f6f8d6a7ef2",
            "max": 5,
            "min": 0,
            "orientation": "horizontal",
            "style": "IPY_MODEL_5cd703bf7db742ce9ddcf37878bbd027",
            "value": 5
          }
        },
        "176819189d9e4a33af85b76d99fa9aa9": {
          "model_module": "@jupyter-widgets/controls",
          "model_name": "HTMLModel",
          "model_module_version": "1.5.0",
          "state": {
            "_dom_classes": [],
            "_model_module": "@jupyter-widgets/controls",
            "_model_module_version": "1.5.0",
            "_model_name": "HTMLModel",
            "_view_count": null,
            "_view_module": "@jupyter-widgets/controls",
            "_view_module_version": "1.5.0",
            "_view_name": "HTMLView",
            "description": "",
            "description_tooltip": null,
            "layout": "IPY_MODEL_c3643d32e1bc41479817abdfe79c4c86",
            "placeholder": "​",
            "style": "IPY_MODEL_13bec8a36ffb4845abf1446c34466f7c",
            "value": " 5/5 [00:00&lt;00:00, 14.78it/s]"
          }
        },
        "4425b8718ff748f0a72f72702fe38b8f": {
          "model_module": "@jupyter-widgets/base",
          "model_name": "LayoutModel",
          "model_module_version": "1.2.0",
          "state": {
            "_model_module": "@jupyter-widgets/base",
            "_model_module_version": "1.2.0",
            "_model_name": "LayoutModel",
            "_view_count": null,
            "_view_module": "@jupyter-widgets/base",
            "_view_module_version": "1.2.0",
            "_view_name": "LayoutView",
            "align_content": null,
            "align_items": null,
            "align_self": null,
            "border": null,
            "bottom": null,
            "display": null,
            "flex": null,
            "flex_flow": null,
            "grid_area": null,
            "grid_auto_columns": null,
            "grid_auto_flow": null,
            "grid_auto_rows": null,
            "grid_column": null,
            "grid_gap": null,
            "grid_row": null,
            "grid_template_areas": null,
            "grid_template_columns": null,
            "grid_template_rows": null,
            "height": null,
            "justify_content": null,
            "justify_items": null,
            "left": null,
            "margin": null,
            "max_height": null,
            "max_width": null,
            "min_height": null,
            "min_width": null,
            "object_fit": null,
            "object_position": null,
            "order": null,
            "overflow": null,
            "overflow_x": null,
            "overflow_y": null,
            "padding": null,
            "right": null,
            "top": null,
            "visibility": null,
            "width": null
          }
        },
        "502405620b734e8199c5a522a2b7a421": {
          "model_module": "@jupyter-widgets/base",
          "model_name": "LayoutModel",
          "model_module_version": "1.2.0",
          "state": {
            "_model_module": "@jupyter-widgets/base",
            "_model_module_version": "1.2.0",
            "_model_name": "LayoutModel",
            "_view_count": null,
            "_view_module": "@jupyter-widgets/base",
            "_view_module_version": "1.2.0",
            "_view_name": "LayoutView",
            "align_content": null,
            "align_items": null,
            "align_self": null,
            "border": null,
            "bottom": null,
            "display": null,
            "flex": null,
            "flex_flow": null,
            "grid_area": null,
            "grid_auto_columns": null,
            "grid_auto_flow": null,
            "grid_auto_rows": null,
            "grid_column": null,
            "grid_gap": null,
            "grid_row": null,
            "grid_template_areas": null,
            "grid_template_columns": null,
            "grid_template_rows": null,
            "height": null,
            "justify_content": null,
            "justify_items": null,
            "left": null,
            "margin": null,
            "max_height": null,
            "max_width": null,
            "min_height": null,
            "min_width": null,
            "object_fit": null,
            "object_position": null,
            "order": null,
            "overflow": null,
            "overflow_x": null,
            "overflow_y": null,
            "padding": null,
            "right": null,
            "top": null,
            "visibility": null,
            "width": null
          }
        },
        "6fe2414ffcff459f9067b9604c8eb573": {
          "model_module": "@jupyter-widgets/controls",
          "model_name": "DescriptionStyleModel",
          "model_module_version": "1.5.0",
          "state": {
            "_model_module": "@jupyter-widgets/controls",
            "_model_module_version": "1.5.0",
            "_model_name": "DescriptionStyleModel",
            "_view_count": null,
            "_view_module": "@jupyter-widgets/base",
            "_view_module_version": "1.2.0",
            "_view_name": "StyleView",
            "description_width": ""
          }
        },
        "32d5e2a9356b4165bf9e9f6f8d6a7ef2": {
          "model_module": "@jupyter-widgets/base",
          "model_name": "LayoutModel",
          "model_module_version": "1.2.0",
          "state": {
            "_model_module": "@jupyter-widgets/base",
            "_model_module_version": "1.2.0",
            "_model_name": "LayoutModel",
            "_view_count": null,
            "_view_module": "@jupyter-widgets/base",
            "_view_module_version": "1.2.0",
            "_view_name": "LayoutView",
            "align_content": null,
            "align_items": null,
            "align_self": null,
            "border": null,
            "bottom": null,
            "display": null,
            "flex": null,
            "flex_flow": null,
            "grid_area": null,
            "grid_auto_columns": null,
            "grid_auto_flow": null,
            "grid_auto_rows": null,
            "grid_column": null,
            "grid_gap": null,
            "grid_row": null,
            "grid_template_areas": null,
            "grid_template_columns": null,
            "grid_template_rows": null,
            "height": null,
            "justify_content": null,
            "justify_items": null,
            "left": null,
            "margin": null,
            "max_height": null,
            "max_width": null,
            "min_height": null,
            "min_width": null,
            "object_fit": null,
            "object_position": null,
            "order": null,
            "overflow": null,
            "overflow_x": null,
            "overflow_y": null,
            "padding": null,
            "right": null,
            "top": null,
            "visibility": null,
            "width": null
          }
        },
        "5cd703bf7db742ce9ddcf37878bbd027": {
          "model_module": "@jupyter-widgets/controls",
          "model_name": "ProgressStyleModel",
          "model_module_version": "1.5.0",
          "state": {
            "_model_module": "@jupyter-widgets/controls",
            "_model_module_version": "1.5.0",
            "_model_name": "ProgressStyleModel",
            "_view_count": null,
            "_view_module": "@jupyter-widgets/base",
            "_view_module_version": "1.2.0",
            "_view_name": "StyleView",
            "bar_color": null,
            "description_width": ""
          }
        },
        "c3643d32e1bc41479817abdfe79c4c86": {
          "model_module": "@jupyter-widgets/base",
          "model_name": "LayoutModel",
          "model_module_version": "1.2.0",
          "state": {
            "_model_module": "@jupyter-widgets/base",
            "_model_module_version": "1.2.0",
            "_model_name": "LayoutModel",
            "_view_count": null,
            "_view_module": "@jupyter-widgets/base",
            "_view_module_version": "1.2.0",
            "_view_name": "LayoutView",
            "align_content": null,
            "align_items": null,
            "align_self": null,
            "border": null,
            "bottom": null,
            "display": null,
            "flex": null,
            "flex_flow": null,
            "grid_area": null,
            "grid_auto_columns": null,
            "grid_auto_flow": null,
            "grid_auto_rows": null,
            "grid_column": null,
            "grid_gap": null,
            "grid_row": null,
            "grid_template_areas": null,
            "grid_template_columns": null,
            "grid_template_rows": null,
            "height": null,
            "justify_content": null,
            "justify_items": null,
            "left": null,
            "margin": null,
            "max_height": null,
            "max_width": null,
            "min_height": null,
            "min_width": null,
            "object_fit": null,
            "object_position": null,
            "order": null,
            "overflow": null,
            "overflow_x": null,
            "overflow_y": null,
            "padding": null,
            "right": null,
            "top": null,
            "visibility": null,
            "width": null
          }
        },
        "13bec8a36ffb4845abf1446c34466f7c": {
          "model_module": "@jupyter-widgets/controls",
          "model_name": "DescriptionStyleModel",
          "model_module_version": "1.5.0",
          "state": {
            "_model_module": "@jupyter-widgets/controls",
            "_model_module_version": "1.5.0",
            "_model_name": "DescriptionStyleModel",
            "_view_count": null,
            "_view_module": "@jupyter-widgets/base",
            "_view_module_version": "1.2.0",
            "_view_name": "StyleView",
            "description_width": ""
          }
        }
      }
    }
  },
  "nbformat": 4,
  "nbformat_minor": 5
}