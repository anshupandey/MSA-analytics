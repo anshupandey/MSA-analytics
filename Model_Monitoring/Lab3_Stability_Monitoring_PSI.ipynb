{
  "cells": [
    {
      "cell_type": "markdown",
      "metadata": {
        "id": "view-in-github",
        "colab_type": "text"
      },
      "source": [
        "<a href=\"https://colab.research.google.com/github/anshupandey/MSA-analytics/blob/main/Model_Monitoring/Lab3_Stability_Monitoring_PSI.ipynb\" target=\"_parent\"><img src=\"https://colab.research.google.com/assets/colab-badge.svg\" alt=\"Open In Colab\"/></a>"
      ]
    },
    {
      "cell_type": "markdown",
      "id": "04c3982d",
      "metadata": {
        "id": "04c3982d"
      },
      "source": [
        "# Lab 3: Stability Monitoring with PSI\n",
        "**Objective**: Implement the Population Stability Index (PSI) to monitor feature distribution changes over time.\n",
        "\n",
        "This lab helps us understand how certain input features in our Ocean Hull Insurance dataset may have drifted over time.\n",
        "Drift in feature distributions can lead to degraded model performance."
      ]
    },
    {
      "cell_type": "code",
      "execution_count": null,
      "id": "5cead1e1",
      "metadata": {
        "id": "5cead1e1"
      },
      "outputs": [],
      "source": [
        "import pandas as pd\n",
        "import numpy as np\n",
        "\n",
        "# Load dataset\n",
        "url = \"https://raw.githubusercontent.com/anshupandey/MSA-analytics/refs/heads/main/datasets/Ocean_Hull_Insurance_datasetv2.csv\"\n",
        "df = pd.read_csv(url)\n",
        "\n",
        "# Convert object columns to categorical\n",
        "for col in df.select_dtypes(include='object').columns:\n",
        "    df[col] = df[col].astype('category')\n",
        "\n",
        "# Create train and current slices (70/30 split)\n",
        "split_idx = int(len(df) * 0.7)\n",
        "df_train = df.iloc[:split_idx].copy()\n",
        "df_current = df.iloc[split_idx:].copy()\n",
        "\n",
        "df_train.shape, df_current.shape\n"
      ]
    },
    {
      "cell_type": "markdown",
      "id": "834d04ad",
      "metadata": {
        "id": "834d04ad"
      },
      "source": [
        "### PSI Calculation Logic\n",
        "We use bins or category distribution to compare how feature distributions changed between two time periods."
      ]
    },
    {
      "cell_type": "code",
      "execution_count": null,
      "id": "a21d4a82",
      "metadata": {
        "id": "a21d4a82"
      },
      "outputs": [],
      "source": [
        "def calculate_psi(expected, actual, buckets=10):\n",
        "    def scale_range(series, buckets):\n",
        "        return pd.qcut(series.rank(method='first'), buckets, labels=False, duplicates='drop')\n",
        "\n",
        "    if expected.dtype.name == 'category' or expected.dtype == 'object':\n",
        "        expected_dist = expected.value_counts(normalize=True)\n",
        "        actual_dist = actual.value_counts(normalize=True)\n",
        "        all_categories = set(expected_dist.index).union(actual_dist.index)\n",
        "        psi_val = 0\n",
        "        for cat in all_categories:\n",
        "            e_perc = expected_dist.get(cat, 0.0001)\n",
        "            a_perc = actual_dist.get(cat, 0.0001)\n",
        "            psi_val += (e_perc - a_perc) * np.log(e_perc / a_perc)\n",
        "    else:\n",
        "        expected_bins = scale_range(expected, buckets)\n",
        "        actual_bins = scale_range(actual, buckets)\n",
        "        expected_perc = pd.Series(expected_bins).value_counts(normalize=True)\n",
        "        actual_perc = pd.Series(actual_bins).value_counts(normalize=True)\n",
        "        psi_val = 0\n",
        "        for b in range(buckets):\n",
        "            e_perc = expected_perc.get(b, 0.0001)\n",
        "            a_perc = actual_perc.get(b, 0.0001)\n",
        "            psi_val += (e_perc - a_perc) * np.log(e_perc / a_perc)\n",
        "    return psi_val\n"
      ]
    },
    {
      "cell_type": "markdown",
      "id": "8e938421",
      "metadata": {
        "id": "8e938421"
      },
      "source": [
        "### Compute PSI for All Features"
      ]
    },
    {
      "cell_type": "code",
      "execution_count": null,
      "id": "c3a8c83e",
      "metadata": {
        "id": "c3a8c83e"
      },
      "outputs": [],
      "source": [
        "psi_results = []\n",
        "for col in df.columns:\n",
        "    if col == 'Claim_Occurred':\n",
        "        continue\n",
        "    psi_val = calculate_psi(df_train[col], df_current[col])\n",
        "    psi_results.append({'Feature': col, 'PSI': psi_val})\n",
        "\n",
        "psi_df = pd.DataFrame(psi_results).sort_values(by='PSI', ascending=False)\n",
        "psi_df\n"
      ]
    },
    {
      "cell_type": "markdown",
      "id": "97e11baa",
      "metadata": {
        "id": "97e11baa"
      },
      "source": [
        "### Interpretation Strategy\n",
        "- PSI < 0.1: Stable\n",
        "- 0.1 <= PSI < 0.25: Moderate Shift – **monitor these features**\n",
        "- PSI >= 0.25: Significant Shift – **investigate & retrain model if needed**\n",
        "\n",
        "From the results:\n",
        "- **Operating_Zone** shows **moderate drift**.\n",
        "- **Vessel_Type** shows mild changes.\n",
        "- Others are stable."
      ]
    }
  ],
  "metadata": {
    "colab": {
      "provenance": [],
      "include_colab_link": true
    }
  },
  "nbformat": 4,
  "nbformat_minor": 5
}