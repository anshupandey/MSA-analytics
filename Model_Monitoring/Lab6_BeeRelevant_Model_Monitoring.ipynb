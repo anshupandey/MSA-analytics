{
  "cells": [
    {
      "cell_type": "markdown",
      "metadata": {
        "id": "view-in-github",
        "colab_type": "text"
      },
      "source": [
        "<a href=\"https://colab.research.google.com/github/anshupandey/MSA-analytics/blob/main/Model_Monitoring/Lab6_BeeRelevant_Model_Monitoring.ipynb\" target=\"_parent\"><img src=\"https://colab.research.google.com/assets/colab-badge.svg\" alt=\"Open In Colab\"/></a>"
      ]
    },
    {
      "cell_type": "markdown",
      "id": "b84aa132",
      "metadata": {
        "id": "b84aa132"
      },
      "source": [
        "# Bee-Relevant Hull Insurance Dataset - Model Monitoring & Retraining Labs\n",
        "This notebook covers:\n",
        "- Drift detection using PSI, Kolmogorov–Smirnov Test, and Jensen–Shannon Divergence\n",
        "- Model training, evaluation, and retraining strategy\n",
        "- Building a monitoring dashboard\n",
        "\n",
        "Dataset: Bee-Relevant Ocean Hull Insurance (Anonymized)"
      ]
    },
    {
      "cell_type": "code",
      "execution_count": null,
      "id": "8f783b97",
      "metadata": {
        "id": "8f783b97"
      },
      "outputs": [],
      "source": [
        "import pandas as pd\n",
        "\n",
        "# Load the dataset\n",
        "df = pd.read_excel(\"Ocean Hull Data for Bee-Relevant - Anonymised.xlsx\")\n",
        "df.head()"
      ]
    },
    {
      "cell_type": "markdown",
      "id": "b0421d4c",
      "metadata": {
        "id": "b0421d4c"
      },
      "source": [
        "## Step 1: Exploratory Data Analysis\n",
        "Let's explore the data to identify key features and target variables."
      ]
    },
    {
      "cell_type": "code",
      "execution_count": null,
      "id": "93d2efd8",
      "metadata": {
        "id": "93d2efd8"
      },
      "outputs": [],
      "source": [
        "# Summary and null counts\n",
        "df.info()\n",
        "df.isnull().sum().sort_values(ascending=False)"
      ]
    },
    {
      "cell_type": "markdown",
      "id": "d307dc55",
      "metadata": {
        "id": "d307dc55"
      },
      "source": [
        "## Lab 2: Drift Detection - PSI, KS Test, and Jensen–Shannon Divergence\n",
        "We'll compare the distribution of selected features between a historical training slice and a recent/current slice."
      ]
    },
    {
      "cell_type": "code",
      "execution_count": null,
      "id": "6d77c183",
      "metadata": {
        "id": "6d77c183"
      },
      "outputs": [],
      "source": [
        "from sklearn.model_selection import train_test_split\n",
        "import numpy as np\n",
        "from scipy.stats import ks_2samp, entropy\n",
        "import matplotlib.pyplot as plt\n",
        "\n",
        "# Drop rows with missing values\n",
        "df_clean = df.dropna()\n",
        "\n",
        "# Create a binary split assuming 'Policy Inception Date' defines time\n",
        "df_clean['Policy Inception Date'] = pd.to_datetime(df_clean['Policy Inception Date'])\n",
        "cutoff_date = df_clean['Policy Inception Date'].quantile(0.5)\n",
        "\n",
        "train_slice = df_clean[df_clean['Policy Inception Date'] <= cutoff_date]\n",
        "current_slice = df_clean[df_clean['Policy Inception Date'] > cutoff_date]\n",
        "\n",
        "# Pick numeric features for analysis\n",
        "features = ['Gross Premium', 'Sum Insured', 'Vessel Age']\n",
        "psi_values = {}\n",
        "\n",
        "def calculate_psi(expected, actual, buckets=10):\n",
        "    def scale_range(data, buckets):\n",
        "        return np.percentile(data, np.linspace(0, 100, buckets + 1))\n",
        "\n",
        "    breakpoints = scale_range(expected, buckets)\n",
        "    expected_percents = np.histogram(expected, bins=breakpoints)[0] / len(expected)\n",
        "    actual_percents = np.histogram(actual, bins=breakpoints)[0] / len(actual)\n",
        "\n",
        "    psi = np.sum((expected_percents - actual_percents) * np.log(expected_percents / actual_percents + 1e-6))\n",
        "    return psi\n",
        "\n",
        "for feature in features:\n",
        "    psi = calculate_psi(train_slice[feature], current_slice[feature])\n",
        "    psi_values[feature] = psi\n",
        "\n",
        "psi_values"
      ]
    }
  ],
  "metadata": {
    "colab": {
      "provenance": [],
      "include_colab_link": true
    }
  },
  "nbformat": 4,
  "nbformat_minor": 5
}